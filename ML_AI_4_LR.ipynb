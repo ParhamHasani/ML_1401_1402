{
 "cells": [
  {
   "cell_type": "markdown",
   "metadata": {},
   "source": [
    "# The purpose of this code is review types of dimension reductions in Logistic regresion algorithms."
   ]
  },
  {
   "cell_type": "code",
   "execution_count": 1,
   "metadata": {
    "_cell_guid": "b1076dfc-b9ad-4769-8c92-a6c4dae69d19",
    "_uuid": "8f2839f25d086af736a60e9eeb907d3b93b6e0e5"
   },
   "outputs": [],
   "source": [
    "import os\n",
    "import pandas as pd\n",
    "import sklearn \n",
    "from sklearn.model_selection import train_test_split\n",
    "from sklearn.linear_model import LogisticRegression\n",
    "from sklearn.metrics import accuracy_score\n",
    "import decimal\n"
   ]
  },
  {
   "cell_type": "code",
   "execution_count": 2,
   "metadata": {},
   "outputs": [],
   "source": [
    "df = pd.read_csv(\"human-activity-recognition-with-smartphones.csv\")"
   ]
  },
  {
   "cell_type": "code",
   "execution_count": 3,
   "metadata": {},
   "outputs": [
    {
     "name": "stdout",
     "output_type": "stream",
     "text": [
      "Dataframe shape : (7352, 563)\n"
     ]
    }
   ],
   "source": [
    "print(f\"Dataframe shape : {df.shape}\")"
   ]
  },
  {
   "cell_type": "code",
   "execution_count": 4,
   "metadata": {},
   "outputs": [
    {
     "data": {
      "text/html": [
       "<div>\n",
       "<style scoped>\n",
       "    .dataframe tbody tr th:only-of-type {\n",
       "        vertical-align: middle;\n",
       "    }\n",
       "\n",
       "    .dataframe tbody tr th {\n",
       "        vertical-align: top;\n",
       "    }\n",
       "\n",
       "    .dataframe thead th {\n",
       "        text-align: right;\n",
       "    }\n",
       "</style>\n",
       "<table border=\"1\" class=\"dataframe\">\n",
       "  <thead>\n",
       "    <tr style=\"text-align: right;\">\n",
       "      <th></th>\n",
       "      <th>tBodyAcc-mean()-X</th>\n",
       "      <th>tBodyAcc-mean()-Y</th>\n",
       "      <th>tBodyAcc-mean()-Z</th>\n",
       "      <th>tBodyAcc-std()-X</th>\n",
       "      <th>tBodyAcc-std()-Y</th>\n",
       "      <th>tBodyAcc-std()-Z</th>\n",
       "      <th>tBodyAcc-mad()-X</th>\n",
       "      <th>tBodyAcc-mad()-Y</th>\n",
       "      <th>tBodyAcc-mad()-Z</th>\n",
       "      <th>tBodyAcc-max()-X</th>\n",
       "      <th>...</th>\n",
       "      <th>fBodyBodyGyroJerkMag-kurtosis()</th>\n",
       "      <th>angle(tBodyAccMean,gravity)</th>\n",
       "      <th>angle(tBodyAccJerkMean),gravityMean)</th>\n",
       "      <th>angle(tBodyGyroMean,gravityMean)</th>\n",
       "      <th>angle(tBodyGyroJerkMean,gravityMean)</th>\n",
       "      <th>angle(X,gravityMean)</th>\n",
       "      <th>angle(Y,gravityMean)</th>\n",
       "      <th>angle(Z,gravityMean)</th>\n",
       "      <th>subject</th>\n",
       "      <th>Activity</th>\n",
       "    </tr>\n",
       "  </thead>\n",
       "  <tbody>\n",
       "    <tr>\n",
       "      <th>0</th>\n",
       "      <td>0.288585</td>\n",
       "      <td>-0.020294</td>\n",
       "      <td>-0.132905</td>\n",
       "      <td>-0.995279</td>\n",
       "      <td>-0.983111</td>\n",
       "      <td>-0.913526</td>\n",
       "      <td>-0.995112</td>\n",
       "      <td>-0.983185</td>\n",
       "      <td>-0.923527</td>\n",
       "      <td>-0.934724</td>\n",
       "      <td>...</td>\n",
       "      <td>-0.710304</td>\n",
       "      <td>-0.112754</td>\n",
       "      <td>0.030400</td>\n",
       "      <td>-0.464761</td>\n",
       "      <td>-0.018446</td>\n",
       "      <td>-0.841247</td>\n",
       "      <td>0.179941</td>\n",
       "      <td>-0.058627</td>\n",
       "      <td>1</td>\n",
       "      <td>STANDING</td>\n",
       "    </tr>\n",
       "    <tr>\n",
       "      <th>1</th>\n",
       "      <td>0.278419</td>\n",
       "      <td>-0.016411</td>\n",
       "      <td>-0.123520</td>\n",
       "      <td>-0.998245</td>\n",
       "      <td>-0.975300</td>\n",
       "      <td>-0.960322</td>\n",
       "      <td>-0.998807</td>\n",
       "      <td>-0.974914</td>\n",
       "      <td>-0.957686</td>\n",
       "      <td>-0.943068</td>\n",
       "      <td>...</td>\n",
       "      <td>-0.861499</td>\n",
       "      <td>0.053477</td>\n",
       "      <td>-0.007435</td>\n",
       "      <td>-0.732626</td>\n",
       "      <td>0.703511</td>\n",
       "      <td>-0.844788</td>\n",
       "      <td>0.180289</td>\n",
       "      <td>-0.054317</td>\n",
       "      <td>1</td>\n",
       "      <td>STANDING</td>\n",
       "    </tr>\n",
       "    <tr>\n",
       "      <th>2</th>\n",
       "      <td>0.279653</td>\n",
       "      <td>-0.019467</td>\n",
       "      <td>-0.113462</td>\n",
       "      <td>-0.995380</td>\n",
       "      <td>-0.967187</td>\n",
       "      <td>-0.978944</td>\n",
       "      <td>-0.996520</td>\n",
       "      <td>-0.963668</td>\n",
       "      <td>-0.977469</td>\n",
       "      <td>-0.938692</td>\n",
       "      <td>...</td>\n",
       "      <td>-0.760104</td>\n",
       "      <td>-0.118559</td>\n",
       "      <td>0.177899</td>\n",
       "      <td>0.100699</td>\n",
       "      <td>0.808529</td>\n",
       "      <td>-0.848933</td>\n",
       "      <td>0.180637</td>\n",
       "      <td>-0.049118</td>\n",
       "      <td>1</td>\n",
       "      <td>STANDING</td>\n",
       "    </tr>\n",
       "    <tr>\n",
       "      <th>3</th>\n",
       "      <td>0.279174</td>\n",
       "      <td>-0.026201</td>\n",
       "      <td>-0.123283</td>\n",
       "      <td>-0.996091</td>\n",
       "      <td>-0.983403</td>\n",
       "      <td>-0.990675</td>\n",
       "      <td>-0.997099</td>\n",
       "      <td>-0.982750</td>\n",
       "      <td>-0.989302</td>\n",
       "      <td>-0.938692</td>\n",
       "      <td>...</td>\n",
       "      <td>-0.482845</td>\n",
       "      <td>-0.036788</td>\n",
       "      <td>-0.012892</td>\n",
       "      <td>0.640011</td>\n",
       "      <td>-0.485366</td>\n",
       "      <td>-0.848649</td>\n",
       "      <td>0.181935</td>\n",
       "      <td>-0.047663</td>\n",
       "      <td>1</td>\n",
       "      <td>STANDING</td>\n",
       "    </tr>\n",
       "    <tr>\n",
       "      <th>4</th>\n",
       "      <td>0.276629</td>\n",
       "      <td>-0.016570</td>\n",
       "      <td>-0.115362</td>\n",
       "      <td>-0.998139</td>\n",
       "      <td>-0.980817</td>\n",
       "      <td>-0.990482</td>\n",
       "      <td>-0.998321</td>\n",
       "      <td>-0.979672</td>\n",
       "      <td>-0.990441</td>\n",
       "      <td>-0.942469</td>\n",
       "      <td>...</td>\n",
       "      <td>-0.699205</td>\n",
       "      <td>0.123320</td>\n",
       "      <td>0.122542</td>\n",
       "      <td>0.693578</td>\n",
       "      <td>-0.615971</td>\n",
       "      <td>-0.847865</td>\n",
       "      <td>0.185151</td>\n",
       "      <td>-0.043892</td>\n",
       "      <td>1</td>\n",
       "      <td>STANDING</td>\n",
       "    </tr>\n",
       "    <tr>\n",
       "      <th>5</th>\n",
       "      <td>0.277199</td>\n",
       "      <td>-0.010098</td>\n",
       "      <td>-0.105137</td>\n",
       "      <td>-0.997335</td>\n",
       "      <td>-0.990487</td>\n",
       "      <td>-0.995420</td>\n",
       "      <td>-0.997627</td>\n",
       "      <td>-0.990218</td>\n",
       "      <td>-0.995549</td>\n",
       "      <td>-0.942469</td>\n",
       "      <td>...</td>\n",
       "      <td>-0.844619</td>\n",
       "      <td>0.082632</td>\n",
       "      <td>-0.143439</td>\n",
       "      <td>0.275041</td>\n",
       "      <td>-0.368224</td>\n",
       "      <td>-0.849632</td>\n",
       "      <td>0.184823</td>\n",
       "      <td>-0.042126</td>\n",
       "      <td>1</td>\n",
       "      <td>STANDING</td>\n",
       "    </tr>\n",
       "    <tr>\n",
       "      <th>6</th>\n",
       "      <td>0.279454</td>\n",
       "      <td>-0.019641</td>\n",
       "      <td>-0.110022</td>\n",
       "      <td>-0.996921</td>\n",
       "      <td>-0.967186</td>\n",
       "      <td>-0.983118</td>\n",
       "      <td>-0.997003</td>\n",
       "      <td>-0.966097</td>\n",
       "      <td>-0.983116</td>\n",
       "      <td>-0.940987</td>\n",
       "      <td>...</td>\n",
       "      <td>-0.564430</td>\n",
       "      <td>-0.212754</td>\n",
       "      <td>-0.230622</td>\n",
       "      <td>0.014637</td>\n",
       "      <td>-0.189512</td>\n",
       "      <td>-0.852150</td>\n",
       "      <td>0.182170</td>\n",
       "      <td>-0.043010</td>\n",
       "      <td>1</td>\n",
       "      <td>STANDING</td>\n",
       "    </tr>\n",
       "    <tr>\n",
       "      <th>7</th>\n",
       "      <td>0.277432</td>\n",
       "      <td>-0.030488</td>\n",
       "      <td>-0.125360</td>\n",
       "      <td>-0.996559</td>\n",
       "      <td>-0.966728</td>\n",
       "      <td>-0.981585</td>\n",
       "      <td>-0.996485</td>\n",
       "      <td>-0.966313</td>\n",
       "      <td>-0.982982</td>\n",
       "      <td>-0.940987</td>\n",
       "      <td>...</td>\n",
       "      <td>-0.421715</td>\n",
       "      <td>-0.020888</td>\n",
       "      <td>0.593996</td>\n",
       "      <td>-0.561871</td>\n",
       "      <td>0.467383</td>\n",
       "      <td>-0.851017</td>\n",
       "      <td>0.183779</td>\n",
       "      <td>-0.041976</td>\n",
       "      <td>1</td>\n",
       "      <td>STANDING</td>\n",
       "    </tr>\n",
       "    <tr>\n",
       "      <th>8</th>\n",
       "      <td>0.277293</td>\n",
       "      <td>-0.021751</td>\n",
       "      <td>-0.120751</td>\n",
       "      <td>-0.997328</td>\n",
       "      <td>-0.961245</td>\n",
       "      <td>-0.983672</td>\n",
       "      <td>-0.997596</td>\n",
       "      <td>-0.957236</td>\n",
       "      <td>-0.984379</td>\n",
       "      <td>-0.940598</td>\n",
       "      <td>...</td>\n",
       "      <td>-0.572995</td>\n",
       "      <td>0.012954</td>\n",
       "      <td>0.080936</td>\n",
       "      <td>-0.234313</td>\n",
       "      <td>0.117797</td>\n",
       "      <td>-0.847971</td>\n",
       "      <td>0.188982</td>\n",
       "      <td>-0.037364</td>\n",
       "      <td>1</td>\n",
       "      <td>STANDING</td>\n",
       "    </tr>\n",
       "    <tr>\n",
       "      <th>9</th>\n",
       "      <td>0.280586</td>\n",
       "      <td>-0.009960</td>\n",
       "      <td>-0.106065</td>\n",
       "      <td>-0.994803</td>\n",
       "      <td>-0.972758</td>\n",
       "      <td>-0.986244</td>\n",
       "      <td>-0.995405</td>\n",
       "      <td>-0.973663</td>\n",
       "      <td>-0.985642</td>\n",
       "      <td>-0.940028</td>\n",
       "      <td>...</td>\n",
       "      <td>0.140452</td>\n",
       "      <td>-0.020590</td>\n",
       "      <td>-0.127730</td>\n",
       "      <td>-0.482871</td>\n",
       "      <td>-0.070670</td>\n",
       "      <td>-0.848294</td>\n",
       "      <td>0.190310</td>\n",
       "      <td>-0.034417</td>\n",
       "      <td>1</td>\n",
       "      <td>STANDING</td>\n",
       "    </tr>\n",
       "  </tbody>\n",
       "</table>\n",
       "<p>10 rows × 563 columns</p>\n",
       "</div>"
      ],
      "text/plain": [
       "   tBodyAcc-mean()-X  tBodyAcc-mean()-Y  tBodyAcc-mean()-Z  tBodyAcc-std()-X  \\\n",
       "0           0.288585          -0.020294          -0.132905         -0.995279   \n",
       "1           0.278419          -0.016411          -0.123520         -0.998245   \n",
       "2           0.279653          -0.019467          -0.113462         -0.995380   \n",
       "3           0.279174          -0.026201          -0.123283         -0.996091   \n",
       "4           0.276629          -0.016570          -0.115362         -0.998139   \n",
       "5           0.277199          -0.010098          -0.105137         -0.997335   \n",
       "6           0.279454          -0.019641          -0.110022         -0.996921   \n",
       "7           0.277432          -0.030488          -0.125360         -0.996559   \n",
       "8           0.277293          -0.021751          -0.120751         -0.997328   \n",
       "9           0.280586          -0.009960          -0.106065         -0.994803   \n",
       "\n",
       "   tBodyAcc-std()-Y  tBodyAcc-std()-Z  tBodyAcc-mad()-X  tBodyAcc-mad()-Y  \\\n",
       "0         -0.983111         -0.913526         -0.995112         -0.983185   \n",
       "1         -0.975300         -0.960322         -0.998807         -0.974914   \n",
       "2         -0.967187         -0.978944         -0.996520         -0.963668   \n",
       "3         -0.983403         -0.990675         -0.997099         -0.982750   \n",
       "4         -0.980817         -0.990482         -0.998321         -0.979672   \n",
       "5         -0.990487         -0.995420         -0.997627         -0.990218   \n",
       "6         -0.967186         -0.983118         -0.997003         -0.966097   \n",
       "7         -0.966728         -0.981585         -0.996485         -0.966313   \n",
       "8         -0.961245         -0.983672         -0.997596         -0.957236   \n",
       "9         -0.972758         -0.986244         -0.995405         -0.973663   \n",
       "\n",
       "   tBodyAcc-mad()-Z  tBodyAcc-max()-X  ...  fBodyBodyGyroJerkMag-kurtosis()  \\\n",
       "0         -0.923527         -0.934724  ...                        -0.710304   \n",
       "1         -0.957686         -0.943068  ...                        -0.861499   \n",
       "2         -0.977469         -0.938692  ...                        -0.760104   \n",
       "3         -0.989302         -0.938692  ...                        -0.482845   \n",
       "4         -0.990441         -0.942469  ...                        -0.699205   \n",
       "5         -0.995549         -0.942469  ...                        -0.844619   \n",
       "6         -0.983116         -0.940987  ...                        -0.564430   \n",
       "7         -0.982982         -0.940987  ...                        -0.421715   \n",
       "8         -0.984379         -0.940598  ...                        -0.572995   \n",
       "9         -0.985642         -0.940028  ...                         0.140452   \n",
       "\n",
       "   angle(tBodyAccMean,gravity)  angle(tBodyAccJerkMean),gravityMean)  \\\n",
       "0                    -0.112754                              0.030400   \n",
       "1                     0.053477                             -0.007435   \n",
       "2                    -0.118559                              0.177899   \n",
       "3                    -0.036788                             -0.012892   \n",
       "4                     0.123320                              0.122542   \n",
       "5                     0.082632                             -0.143439   \n",
       "6                    -0.212754                             -0.230622   \n",
       "7                    -0.020888                              0.593996   \n",
       "8                     0.012954                              0.080936   \n",
       "9                    -0.020590                             -0.127730   \n",
       "\n",
       "   angle(tBodyGyroMean,gravityMean)  angle(tBodyGyroJerkMean,gravityMean)  \\\n",
       "0                         -0.464761                             -0.018446   \n",
       "1                         -0.732626                              0.703511   \n",
       "2                          0.100699                              0.808529   \n",
       "3                          0.640011                             -0.485366   \n",
       "4                          0.693578                             -0.615971   \n",
       "5                          0.275041                             -0.368224   \n",
       "6                          0.014637                             -0.189512   \n",
       "7                         -0.561871                              0.467383   \n",
       "8                         -0.234313                              0.117797   \n",
       "9                         -0.482871                             -0.070670   \n",
       "\n",
       "   angle(X,gravityMean)  angle(Y,gravityMean)  angle(Z,gravityMean)  subject  \\\n",
       "0             -0.841247              0.179941             -0.058627        1   \n",
       "1             -0.844788              0.180289             -0.054317        1   \n",
       "2             -0.848933              0.180637             -0.049118        1   \n",
       "3             -0.848649              0.181935             -0.047663        1   \n",
       "4             -0.847865              0.185151             -0.043892        1   \n",
       "5             -0.849632              0.184823             -0.042126        1   \n",
       "6             -0.852150              0.182170             -0.043010        1   \n",
       "7             -0.851017              0.183779             -0.041976        1   \n",
       "8             -0.847971              0.188982             -0.037364        1   \n",
       "9             -0.848294              0.190310             -0.034417        1   \n",
       "\n",
       "   Activity  \n",
       "0  STANDING  \n",
       "1  STANDING  \n",
       "2  STANDING  \n",
       "3  STANDING  \n",
       "4  STANDING  \n",
       "5  STANDING  \n",
       "6  STANDING  \n",
       "7  STANDING  \n",
       "8  STANDING  \n",
       "9  STANDING  \n",
       "\n",
       "[10 rows x 563 columns]"
      ]
     },
     "execution_count": 4,
     "metadata": {},
     "output_type": "execute_result"
    }
   ],
   "source": [
    "df.head(10)"
   ]
  },
  {
   "cell_type": "code",
   "execution_count": 5,
   "metadata": {},
   "outputs": [
    {
     "name": "stdout",
     "output_type": "stream",
     "text": [
      "['STANDING', 'SITTING', 'LAYING', 'WALKING', 'WALKING_DOWNSTAIRS', 'WALKING_UPSTAIRS']\n"
     ]
    }
   ],
   "source": [
    "list_of_activity = df[\"Activity\"].unique().tolist() \n",
    "print(list_of_activity)"
   ]
  },
  {
   "cell_type": "code",
   "execution_count": 6,
   "metadata": {},
   "outputs": [
    {
     "name": "stdout",
     "output_type": "stream",
     "text": [
      "(7352, 562)\n"
     ]
    }
   ],
   "source": [
    "X = df.drop(columns = \"Activity\")\n",
    "print(X.shape)"
   ]
  },
  {
   "cell_type": "code",
   "execution_count": 7,
   "metadata": {},
   "outputs": [
    {
     "name": "stdout",
     "output_type": "stream",
     "text": [
      "(7352,)\n"
     ]
    }
   ],
   "source": [
    "y = df[\"Activity\"]\n",
    "print(y.shape)"
   ]
  },
  {
   "cell_type": "code",
   "execution_count": 8,
   "metadata": {},
   "outputs": [],
   "source": [
    "X_train, X_test,y_train, y_test = train_test_split(X,y, test_size=0.2, shuffle=True)"
   ]
  },
  {
   "cell_type": "code",
   "execution_count": 9,
   "metadata": {},
   "outputs": [],
   "source": [
    "LR_classifer = LogisticRegression(random_state=0,max_iter=10)"
   ]
  },
  {
   "cell_type": "code",
   "execution_count": 10,
   "metadata": {},
   "outputs": [
    {
     "name": "stderr",
     "output_type": "stream",
     "text": [
      "/home/parham/anaconda3/lib/python3.9/site-packages/sklearn/linear_model/_logistic.py:814: ConvergenceWarning: lbfgs failed to converge (status=1):\n",
      "STOP: TOTAL NO. of ITERATIONS REACHED LIMIT.\n",
      "\n",
      "Increase the number of iterations (max_iter) or scale the data as shown in:\n",
      "    https://scikit-learn.org/stable/modules/preprocessing.html\n",
      "Please also refer to the documentation for alternative solver options:\n",
      "    https://scikit-learn.org/stable/modules/linear_model.html#logistic-regression\n",
      "  n_iter_i = _check_optimize_result(\n"
     ]
    }
   ],
   "source": [
    "fitted_LR = LR_classifer.fit(X_train, y_train)"
   ]
  },
  {
   "cell_type": "code",
   "execution_count": 11,
   "metadata": {},
   "outputs": [],
   "source": [
    "y_predicted = fitted_LR.predict(X_test)"
   ]
  },
  {
   "cell_type": "code",
   "execution_count": 12,
   "metadata": {},
   "outputs": [
    {
     "name": "stdout",
     "output_type": "stream",
     "text": [
      "0.8463630183548606\n"
     ]
    }
   ],
   "source": [
    "first_prediction = accuracy_score(y_test, y_predicted)\n",
    "print(first_prediction)"
   ]
  },
  {
   "cell_type": "markdown",
   "metadata": {},
   "source": [
    "# Feature selection"
   ]
  },
  {
   "cell_type": "markdown",
   "metadata": {},
   "source": [
    "**Select K best**"
   ]
  },
  {
   "cell_type": "markdown",
   "metadata": {},
   "source": [
    "f_classif"
   ]
  },
  {
   "cell_type": "code",
   "execution_count": 13,
   "metadata": {},
   "outputs": [],
   "source": [
    "from sklearn.feature_selection import SelectKBest\n",
    "from sklearn.feature_selection import f_classif"
   ]
  },
  {
   "cell_type": "code",
   "execution_count": 14,
   "metadata": {},
   "outputs": [],
   "source": [
    "feature_selection_SelectKBest_100 = SelectKBest(f_classif, k=100)"
   ]
  },
  {
   "cell_type": "code",
   "execution_count": 15,
   "metadata": {},
   "outputs": [
    {
     "data": {
      "text/plain": [
       "(7352, 100)"
      ]
     },
     "execution_count": 15,
     "metadata": {},
     "output_type": "execute_result"
    }
   ],
   "source": [
    "X_feature_selection_f_classif_100 = feature_selection_SelectKBest_100.fit_transform(X, y)\n",
    "X_feature_selection_f_classif_100.shape"
   ]
  },
  {
   "cell_type": "code",
   "execution_count": 16,
   "metadata": {},
   "outputs": [],
   "source": [
    "X_train_f_classif_100, X_test_f_classif_100,y_train_f_classif_100, y_test_f_classif_100 = train_test_split(X_feature_selection_f_classif_100,y, test_size=0.2)"
   ]
  },
  {
   "cell_type": "code",
   "execution_count": 17,
   "metadata": {},
   "outputs": [
    {
     "name": "stdout",
     "output_type": "stream",
     "text": [
      "X_train_f_classif_100: (5881, 100)\n",
      "X_test_f_classif_100: (1471, 100)\n",
      "y_train_f_classif_100: (5881,)\n",
      "y_test_f_classif_100: (1471,)\n"
     ]
    }
   ],
   "source": [
    "print(f\"X_train_f_classif_100: {X_train_f_classif_100.shape}\")\n",
    "print(f\"X_test_f_classif_100: {X_test_f_classif_100.shape}\")\n",
    "print(f\"y_train_f_classif_100: {y_train_f_classif_100.shape}\")\n",
    "print(f\"y_test_f_classif_100: {y_test_f_classif_100.shape}\")"
   ]
  },
  {
   "cell_type": "code",
   "execution_count": 18,
   "metadata": {},
   "outputs": [
    {
     "name": "stderr",
     "output_type": "stream",
     "text": [
      "/home/parham/anaconda3/lib/python3.9/site-packages/sklearn/linear_model/_logistic.py:814: ConvergenceWarning: lbfgs failed to converge (status=1):\n",
      "STOP: TOTAL NO. of ITERATIONS REACHED LIMIT.\n",
      "\n",
      "Increase the number of iterations (max_iter) or scale the data as shown in:\n",
      "    https://scikit-learn.org/stable/modules/preprocessing.html\n",
      "Please also refer to the documentation for alternative solver options:\n",
      "    https://scikit-learn.org/stable/modules/linear_model.html#logistic-regression\n",
      "  n_iter_i = _check_optimize_result(\n"
     ]
    }
   ],
   "source": [
    "fitted_LR_f_classif_100 = LR_classifer.fit(X_train_f_classif_100, y_train_f_classif_100)"
   ]
  },
  {
   "cell_type": "code",
   "execution_count": 19,
   "metadata": {},
   "outputs": [],
   "source": [
    "y_predicted_f_classif_100 = fitted_LR_f_classif_100.predict(X_test_f_classif_100)"
   ]
  },
  {
   "cell_type": "code",
   "execution_count": 20,
   "metadata": {},
   "outputs": [
    {
     "data": {
      "text/plain": [
       "array(['WALKING', 'WALKING', 'LAYING', ..., 'LAYING', 'WALKING_UPSTAIRS',\n",
       "       'STANDING'], dtype=object)"
      ]
     },
     "execution_count": 20,
     "metadata": {},
     "output_type": "execute_result"
    }
   ],
   "source": [
    "    y_predicted_f_classif_100"
   ]
  },
  {
   "cell_type": "code",
   "execution_count": 21,
   "metadata": {},
   "outputs": [
    {
     "name": "stdout",
     "output_type": "stream",
     "text": [
      "accuracy_f_classif_100: 0.760707002039429\n"
     ]
    }
   ],
   "source": [
    "accuracy_prediction_f_classif_100 = accuracy_score(y_test_f_classif_100, y_predicted_f_classif_100)\n",
    "print(f\"accuracy_f_classif_100: {accuracy_prediction_f_classif_100}\")"
   ]
  },
  {
   "cell_type": "code",
   "execution_count": 22,
   "metadata": {},
   "outputs": [
    {
     "name": "stdout",
     "output_type": "stream",
     "text": [
      "X_train_f_classif_200: (5881, 200)\n",
      "X_test_f_classif_200: (1471, 200)\n",
      "y_train_f_classif_200: (5881,)\n",
      "y_test_f_classif_200: (1471,)\n",
      "accuracy_f_classif_200: 0.8354860639021074\n"
     ]
    },
    {
     "name": "stderr",
     "output_type": "stream",
     "text": [
      "/home/parham/anaconda3/lib/python3.9/site-packages/sklearn/linear_model/_logistic.py:814: ConvergenceWarning: lbfgs failed to converge (status=1):\n",
      "STOP: TOTAL NO. of ITERATIONS REACHED LIMIT.\n",
      "\n",
      "Increase the number of iterations (max_iter) or scale the data as shown in:\n",
      "    https://scikit-learn.org/stable/modules/preprocessing.html\n",
      "Please also refer to the documentation for alternative solver options:\n",
      "    https://scikit-learn.org/stable/modules/linear_model.html#logistic-regression\n",
      "  n_iter_i = _check_optimize_result(\n"
     ]
    }
   ],
   "source": [
    "    feature_selection_SelectKBest_200 = SelectKBest(f_classif, k=200)\n",
    "    X_feature_selection_f_classif_200 = feature_selection_SelectKBest_200.fit_transform(X, y)\n",
    "    X_feature_selection_f_classif_200.shape\n",
    "    X_train_f_classif_200, X_test_f_classif_200,y_train_f_classif_200, y_test_f_classif_200 = train_test_split(X_feature_selection_f_classif_200,y, test_size=0.2)\n",
    "    print(f\"X_train_f_classif_200: {X_train_f_classif_200.shape}\")\n",
    "    print(f\"X_test_f_classif_200: {X_test_f_classif_200.shape}\")\n",
    "    print(f\"y_train_f_classif_200: {y_train_f_classif_200.shape}\")\n",
    "    print(f\"y_test_f_classif_200: {y_test_f_classif_200.shape}\")\n",
    "    fitted_LR_f_classif_200 = LR_classifer.fit(X_train_f_classif_200, y_train_f_classif_200)\n",
    "    y_predicted_f_classif_200 = fitted_LR_f_classif_200.predict(X_test_f_classif_200)\n",
    "    accuracy_prediction_f_classif_200 = accuracy_score(y_test_f_classif_200, y_predicted_f_classif_200)\n",
    "    print(f\"accuracy_f_classif_200: {accuracy_prediction_f_classif_200}\")"
   ]
  },
  {
   "cell_type": "code",
   "execution_count": 23,
   "metadata": {},
   "outputs": [
    {
     "name": "stdout",
     "output_type": "stream",
     "text": [
      "X_train_f_classif_300: (5881, 300)\n",
      "X_test_f_classif_300: (1471, 300)\n",
      "y_train_f_classif_300: (5881,)\n",
      "y_test_f_classif_300: (1471,)\n",
      "accuracy_f_classif_300: 0.8708361658735554\n"
     ]
    },
    {
     "name": "stderr",
     "output_type": "stream",
     "text": [
      "/home/parham/anaconda3/lib/python3.9/site-packages/sklearn/linear_model/_logistic.py:814: ConvergenceWarning: lbfgs failed to converge (status=1):\n",
      "STOP: TOTAL NO. of ITERATIONS REACHED LIMIT.\n",
      "\n",
      "Increase the number of iterations (max_iter) or scale the data as shown in:\n",
      "    https://scikit-learn.org/stable/modules/preprocessing.html\n",
      "Please also refer to the documentation for alternative solver options:\n",
      "    https://scikit-learn.org/stable/modules/linear_model.html#logistic-regression\n",
      "  n_iter_i = _check_optimize_result(\n"
     ]
    }
   ],
   "source": [
    "feature_selection_SelectKBest_300 = SelectKBest(f_classif, k=300)\n",
    "X_feature_selection_f_classif_300 = feature_selection_SelectKBest_300.fit_transform(X, y)\n",
    "X_feature_selection_f_classif_300.shape\n",
    "X_train_f_classif_300, X_test_f_classif_300,y_train_f_classif_300, y_test_f_classif_300 = train_test_split(X_feature_selection_f_classif_300,y, test_size=0.2)\n",
    "print(f\"X_train_f_classif_300: {X_train_f_classif_300.shape}\")\n",
    "print(f\"X_test_f_classif_300: {X_test_f_classif_300.shape}\")\n",
    "print(f\"y_train_f_classif_300: {y_train_f_classif_300.shape}\")\n",
    "print(f\"y_test_f_classif_300: {y_test_f_classif_300.shape}\")\n",
    "fitted_LR_f_classif_300 = LR_classifer.fit(X_train_f_classif_300, y_train_f_classif_300)\n",
    "y_predicted_f_classif_300 = fitted_LR_f_classif_300.predict(X_test_f_classif_300)\n",
    "accuracy_prediction_f_classif_300 = accuracy_score(y_test_f_classif_300, y_predicted_f_classif_300)\n",
    "print(f\"accuracy_f_classif_300: {accuracy_prediction_f_classif_300}\")"
   ]
  },
  {
   "cell_type": "code",
   "execution_count": 24,
   "metadata": {},
   "outputs": [
    {
     "name": "stdout",
     "output_type": "stream",
     "text": [
      "X_train_f_classif_400: (5881, 400)\n",
      "X_test_f_classif_400: (1471, 400)\n",
      "y_train_f_classif_400: (5881,)\n",
      "y_test_f_classif_400: (1471,)\n",
      "accuracy_f_classif_400: 0.8259687287559483\n"
     ]
    },
    {
     "name": "stderr",
     "output_type": "stream",
     "text": [
      "/home/parham/anaconda3/lib/python3.9/site-packages/sklearn/linear_model/_logistic.py:814: ConvergenceWarning: lbfgs failed to converge (status=1):\n",
      "STOP: TOTAL NO. of ITERATIONS REACHED LIMIT.\n",
      "\n",
      "Increase the number of iterations (max_iter) or scale the data as shown in:\n",
      "    https://scikit-learn.org/stable/modules/preprocessing.html\n",
      "Please also refer to the documentation for alternative solver options:\n",
      "    https://scikit-learn.org/stable/modules/linear_model.html#logistic-regression\n",
      "  n_iter_i = _check_optimize_result(\n"
     ]
    }
   ],
   "source": [
    "feature_selection_SelectKBest_400 = SelectKBest(f_classif, k=400)\n",
    "X_feature_selection_f_classif_400 = feature_selection_SelectKBest_400.fit_transform(X, y)\n",
    "X_feature_selection_f_classif_400.shape\n",
    "X_train_f_classif_400, X_test_f_classif_400,y_train_f_classif_400, y_test_f_classif_400 = train_test_split(X_feature_selection_f_classif_400,y, test_size=0.2)\n",
    "print(f\"X_train_f_classif_400: {X_train_f_classif_400.shape}\")\n",
    "print(f\"X_test_f_classif_400: {X_test_f_classif_400.shape}\")\n",
    "print(f\"y_train_f_classif_400: {y_train_f_classif_400.shape}\")\n",
    "print(f\"y_test_f_classif_400: {y_test_f_classif_400.shape}\")\n",
    "fitted_LR_f_classif_400 = LR_classifer.fit(X_train_f_classif_400, y_train_f_classif_400)\n",
    "y_predicted_f_classif_400 = fitted_LR_f_classif_400.predict(X_test_f_classif_400)\n",
    "accuracy_prediction_f_classif_400 = accuracy_score(y_test_f_classif_400, y_predicted_f_classif_400)\n",
    "print(f\"accuracy_f_classif_400: {accuracy_prediction_f_classif_400}\")"
   ]
  },
  {
   "cell_type": "code",
   "execution_count": 25,
   "metadata": {},
   "outputs": [
    {
     "data": {
      "image/png": "[encoded data removed]",
      "text/plain": [
       "<Figure size 1000x500 with 1 Axes>"
      ]
     },
     "metadata": {},
     "output_type": "display_data"
    }
   ],
   "source": [
    "import matplotlib.pyplot as plt\n",
    "\n",
    "execution = (\"original data\", 'accuracy_100','accuracy_200',\n",
    "             'accuracy_300','accuracy_400')\n",
    "accuracy = [float(round(first_prediction*100,2)), float(round(accuracy_prediction_f_classif_100*100,2)), float(round(accuracy_prediction_f_classif_200*100,2)), \n",
    "            float(round(accuracy_prediction_f_classif_300*100,2)), float(round(accuracy_prediction_f_classif_400*100,2))]\n",
    "fig = plt.figure(figsize = (10, 5))\n",
    "plt.bar(execution,accuracy)\n",
    "\n",
    "for index, value in enumerate(accuracy):\n",
    "    plt.text(index, value,str(value))\n",
    "    \n",
    "plt.show()"
   ]
  },
  {
   "cell_type": "markdown",
   "metadata": {},
   "source": [
    "chi2"
   ]
  },
  {
   "cell_type": "code",
   "execution_count": 26,
   "metadata": {},
   "outputs": [],
   "source": [
    "from sklearn.feature_selection import chi2"
   ]
  },
  {
   "cell_type": "markdown",
   "metadata": {},
   "source": [
    "> solution: MinMaxScaler"
   ]
  },
  {
   "cell_type": "code",
   "execution_count": 27,
   "metadata": {},
   "outputs": [
    {
     "data": {
      "text/html": [
       "<div>\n",
       "<style scoped>\n",
       "    .dataframe tbody tr th:only-of-type {\n",
       "        vertical-align: middle;\n",
       "    }\n",
       "\n",
       "    .dataframe tbody tr th {\n",
       "        vertical-align: top;\n",
       "    }\n",
       "\n",
       "    .dataframe thead th {\n",
       "        text-align: right;\n",
       "    }\n",
       "</style>\n",
       "<table border=\"1\" class=\"dataframe\">\n",
       "  <thead>\n",
       "    <tr style=\"text-align: right;\">\n",
       "      <th></th>\n",
       "      <th>tBodyAcc-mean()-X</th>\n",
       "      <th>tBodyAcc-mean()-Y</th>\n",
       "      <th>tBodyAcc-mean()-Z</th>\n",
       "      <th>tBodyAcc-std()-X</th>\n",
       "      <th>tBodyAcc-std()-Y</th>\n",
       "      <th>tBodyAcc-std()-Z</th>\n",
       "      <th>tBodyAcc-mad()-X</th>\n",
       "      <th>tBodyAcc-mad()-Y</th>\n",
       "      <th>tBodyAcc-mad()-Z</th>\n",
       "      <th>tBodyAcc-max()-X</th>\n",
       "      <th>...</th>\n",
       "      <th>fBodyBodyGyroJerkMag-skewness()</th>\n",
       "      <th>fBodyBodyGyroJerkMag-kurtosis()</th>\n",
       "      <th>angle(tBodyAccMean,gravity)</th>\n",
       "      <th>angle(tBodyAccJerkMean),gravityMean)</th>\n",
       "      <th>angle(tBodyGyroMean,gravityMean)</th>\n",
       "      <th>angle(tBodyGyroJerkMean,gravityMean)</th>\n",
       "      <th>angle(X,gravityMean)</th>\n",
       "      <th>angle(Y,gravityMean)</th>\n",
       "      <th>angle(Z,gravityMean)</th>\n",
       "      <th>subject</th>\n",
       "    </tr>\n",
       "  </thead>\n",
       "  <tbody>\n",
       "    <tr>\n",
       "      <th>0</th>\n",
       "      <td>0.644292</td>\n",
       "      <td>0.489853</td>\n",
       "      <td>0.433547</td>\n",
       "      <td>0.002361</td>\n",
       "      <td>0.008748</td>\n",
       "      <td>0.043237</td>\n",
       "      <td>0.002444</td>\n",
       "      <td>0.008546</td>\n",
       "      <td>0.038236</td>\n",
       "      <td>0.032638</td>\n",
       "      <td>...</td>\n",
       "      <td>0.350991</td>\n",
       "      <td>0.147940</td>\n",
       "      <td>0.437030</td>\n",
       "      <td>0.515200</td>\n",
       "      <td>0.267793</td>\n",
       "      <td>0.491741</td>\n",
       "      <td>0.079377</td>\n",
       "      <td>0.798251</td>\n",
       "      <td>0.470687</td>\n",
       "      <td>0.0</td>\n",
       "    </tr>\n",
       "    <tr>\n",
       "      <th>1</th>\n",
       "      <td>0.639209</td>\n",
       "      <td>0.491795</td>\n",
       "      <td>0.438240</td>\n",
       "      <td>0.000877</td>\n",
       "      <td>0.012824</td>\n",
       "      <td>0.019839</td>\n",
       "      <td>0.000596</td>\n",
       "      <td>0.012749</td>\n",
       "      <td>0.021157</td>\n",
       "      <td>0.028466</td>\n",
       "      <td>...</td>\n",
       "      <td>0.201676</td>\n",
       "      <td>0.070666</td>\n",
       "      <td>0.521131</td>\n",
       "      <td>0.496283</td>\n",
       "      <td>0.133774</td>\n",
       "      <td>0.853429</td>\n",
       "      <td>0.077606</td>\n",
       "      <td>0.798487</td>\n",
       "      <td>0.472842</td>\n",
       "      <td>0.0</td>\n",
       "    </tr>\n",
       "    <tr>\n",
       "      <th>2</th>\n",
       "      <td>0.639827</td>\n",
       "      <td>0.490266</td>\n",
       "      <td>0.443269</td>\n",
       "      <td>0.002310</td>\n",
       "      <td>0.017058</td>\n",
       "      <td>0.010528</td>\n",
       "      <td>0.001740</td>\n",
       "      <td>0.018464</td>\n",
       "      <td>0.011266</td>\n",
       "      <td>0.030654</td>\n",
       "      <td>...</td>\n",
       "      <td>0.304605</td>\n",
       "      <td>0.122488</td>\n",
       "      <td>0.434094</td>\n",
       "      <td>0.588950</td>\n",
       "      <td>0.550707</td>\n",
       "      <td>0.906041</td>\n",
       "      <td>0.075533</td>\n",
       "      <td>0.798722</td>\n",
       "      <td>0.475441</td>\n",
       "      <td>0.0</td>\n",
       "    </tr>\n",
       "    <tr>\n",
       "      <th>3</th>\n",
       "      <td>0.639587</td>\n",
       "      <td>0.486900</td>\n",
       "      <td>0.438359</td>\n",
       "      <td>0.001954</td>\n",
       "      <td>0.008596</td>\n",
       "      <td>0.004662</td>\n",
       "      <td>0.001450</td>\n",
       "      <td>0.008767</td>\n",
       "      <td>0.005349</td>\n",
       "      <td>0.030654</td>\n",
       "      <td>...</td>\n",
       "      <td>0.442374</td>\n",
       "      <td>0.264192</td>\n",
       "      <td>0.475464</td>\n",
       "      <td>0.493554</td>\n",
       "      <td>0.820538</td>\n",
       "      <td>0.257822</td>\n",
       "      <td>0.075675</td>\n",
       "      <td>0.799600</td>\n",
       "      <td>0.476168</td>\n",
       "      <td>0.0</td>\n",
       "    </tr>\n",
       "    <tr>\n",
       "      <th>4</th>\n",
       "      <td>0.638314</td>\n",
       "      <td>0.491715</td>\n",
       "      <td>0.442319</td>\n",
       "      <td>0.000931</td>\n",
       "      <td>0.009945</td>\n",
       "      <td>0.004759</td>\n",
       "      <td>0.000839</td>\n",
       "      <td>0.010331</td>\n",
       "      <td>0.004779</td>\n",
       "      <td>0.028765</td>\n",
       "      <td>...</td>\n",
       "      <td>0.324393</td>\n",
       "      <td>0.153612</td>\n",
       "      <td>0.556466</td>\n",
       "      <td>0.561271</td>\n",
       "      <td>0.847339</td>\n",
       "      <td>0.192392</td>\n",
       "      <td>0.076067</td>\n",
       "      <td>0.801776</td>\n",
       "      <td>0.478054</td>\n",
       "      <td>0.0</td>\n",
       "    </tr>\n",
       "    <tr>\n",
       "      <th>...</th>\n",
       "      <td>...</td>\n",
       "      <td>...</td>\n",
       "      <td>...</td>\n",
       "      <td>...</td>\n",
       "      <td>...</td>\n",
       "      <td>...</td>\n",
       "      <td>...</td>\n",
       "      <td>...</td>\n",
       "      <td>...</td>\n",
       "      <td>...</td>\n",
       "      <td>...</td>\n",
       "      <td>...</td>\n",
       "      <td>...</td>\n",
       "      <td>...</td>\n",
       "      <td>...</td>\n",
       "      <td>...</td>\n",
       "      <td>...</td>\n",
       "      <td>...</td>\n",
       "      <td>...</td>\n",
       "      <td>...</td>\n",
       "      <td>...</td>\n",
       "    </tr>\n",
       "    <tr>\n",
       "      <th>7347</th>\n",
       "      <td>0.649833</td>\n",
       "      <td>0.471403</td>\n",
       "      <td>0.409383</td>\n",
       "      <td>0.402307</td>\n",
       "      <td>0.542650</td>\n",
       "      <td>0.538539</td>\n",
       "      <td>0.358850</td>\n",
       "      <td>0.530383</td>\n",
       "      <td>0.530205</td>\n",
       "      <td>0.605398</td>\n",
       "      <td>...</td>\n",
       "      <td>0.205011</td>\n",
       "      <td>0.061044</td>\n",
       "      <td>0.397729</td>\n",
       "      <td>0.914859</td>\n",
       "      <td>0.603878</td>\n",
       "      <td>0.287755</td>\n",
       "      <td>0.104058</td>\n",
       "      <td>0.837938</td>\n",
       "      <td>0.524910</td>\n",
       "      <td>1.0</td>\n",
       "    </tr>\n",
       "    <tr>\n",
       "      <th>7348</th>\n",
       "      <td>0.636926</td>\n",
       "      <td>0.496125</td>\n",
       "      <td>0.426266</td>\n",
       "      <td>0.382346</td>\n",
       "      <td>0.524338</td>\n",
       "      <td>0.529640</td>\n",
       "      <td>0.338724</td>\n",
       "      <td>0.493247</td>\n",
       "      <td>0.540293</td>\n",
       "      <td>0.558720</td>\n",
       "      <td>...</td>\n",
       "      <td>0.304610</td>\n",
       "      <td>0.163047</td>\n",
       "      <td>0.526914</td>\n",
       "      <td>0.937840</td>\n",
       "      <td>0.060523</td>\n",
       "      <td>0.701485</td>\n",
       "      <td>0.114080</td>\n",
       "      <td>0.847458</td>\n",
       "      <td>0.525026</td>\n",
       "      <td>1.0</td>\n",
       "    </tr>\n",
       "    <tr>\n",
       "      <th>7349</th>\n",
       "      <td>0.636694</td>\n",
       "      <td>0.491495</td>\n",
       "      <td>0.477489</td>\n",
       "      <td>0.390891</td>\n",
       "      <td>0.467640</td>\n",
       "      <td>0.637266</td>\n",
       "      <td>0.347742</td>\n",
       "      <td>0.457948</td>\n",
       "      <td>0.666292</td>\n",
       "      <td>0.521999</td>\n",
       "      <td>...</td>\n",
       "      <td>0.514134</td>\n",
       "      <td>0.355582</td>\n",
       "      <td>0.520791</td>\n",
       "      <td>0.366638</td>\n",
       "      <td>0.932807</td>\n",
       "      <td>0.852256</td>\n",
       "      <td>0.110434</td>\n",
       "      <td>0.845069</td>\n",
       "      <td>0.520406</td>\n",
       "      <td>1.0</td>\n",
       "    </tr>\n",
       "    <tr>\n",
       "      <th>7350</th>\n",
       "      <td>0.644827</td>\n",
       "      <td>0.490578</td>\n",
       "      <td>0.420860</td>\n",
       "      <td>0.390430</td>\n",
       "      <td>0.463679</td>\n",
       "      <td>0.634447</td>\n",
       "      <td>0.344756</td>\n",
       "      <td>0.473556</td>\n",
       "      <td>0.659737</td>\n",
       "      <td>0.550851</td>\n",
       "      <td>...</td>\n",
       "      <td>0.533662</td>\n",
       "      <td>0.334993</td>\n",
       "      <td>0.442795</td>\n",
       "      <td>0.850370</td>\n",
       "      <td>0.968966</td>\n",
       "      <td>0.205664</td>\n",
       "      <td>0.107409</td>\n",
       "      <td>0.843234</td>\n",
       "      <td>0.512670</td>\n",
       "      <td>1.0</td>\n",
       "    </tr>\n",
       "    <tr>\n",
       "      <th>7351</th>\n",
       "      <td>0.675752</td>\n",
       "      <td>0.493788</td>\n",
       "      <td>0.398066</td>\n",
       "      <td>0.365365</td>\n",
       "      <td>0.476309</td>\n",
       "      <td>0.588702</td>\n",
       "      <td>0.311298</td>\n",
       "      <td>0.488560</td>\n",
       "      <td>0.614715</td>\n",
       "      <td>0.634506</td>\n",
       "      <td>...</td>\n",
       "      <td>0.306467</td>\n",
       "      <td>0.132385</td>\n",
       "      <td>0.352372</td>\n",
       "      <td>0.496130</td>\n",
       "      <td>0.472263</td>\n",
       "      <td>0.191898</td>\n",
       "      <td>0.108367</td>\n",
       "      <td>0.843488</td>\n",
       "      <td>0.518347</td>\n",
       "      <td>1.0</td>\n",
       "    </tr>\n",
       "  </tbody>\n",
       "</table>\n",
       "<p>7352 rows × 562 columns</p>\n",
       "</div>"
      ],
      "text/plain": [
       "      tBodyAcc-mean()-X  tBodyAcc-mean()-Y  tBodyAcc-mean()-Z  \\\n",
       "0              0.644292           0.489853           0.433547   \n",
       "1              0.639209           0.491795           0.438240   \n",
       "2              0.639827           0.490266           0.443269   \n",
       "3              0.639587           0.486900           0.438359   \n",
       "4              0.638314           0.491715           0.442319   \n",
       "...                 ...                ...                ...   \n",
       "7347           0.649833           0.471403           0.409383   \n",
       "7348           0.636926           0.496125           0.426266   \n",
       "7349           0.636694           0.491495           0.477489   \n",
       "7350           0.644827           0.490578           0.420860   \n",
       "7351           0.675752           0.493788           0.398066   \n",
       "\n",
       "      tBodyAcc-std()-X  tBodyAcc-std()-Y  tBodyAcc-std()-Z  tBodyAcc-mad()-X  \\\n",
       "0             0.002361          0.008748          0.043237          0.002444   \n",
       "1             0.000877          0.012824          0.019839          0.000596   \n",
       "2             0.002310          0.017058          0.010528          0.001740   \n",
       "3             0.001954          0.008596          0.004662          0.001450   \n",
       "4             0.000931          0.009945          0.004759          0.000839   \n",
       "...                ...               ...               ...               ...   \n",
       "7347          0.402307          0.542650          0.538539          0.358850   \n",
       "7348          0.382346          0.524338          0.529640          0.338724   \n",
       "7349          0.390891          0.467640          0.637266          0.347742   \n",
       "7350          0.390430          0.463679          0.634447          0.344756   \n",
       "7351          0.365365          0.476309          0.588702          0.311298   \n",
       "\n",
       "      tBodyAcc-mad()-Y  tBodyAcc-mad()-Z  tBodyAcc-max()-X  ...  \\\n",
       "0             0.008546          0.038236          0.032638  ...   \n",
       "1             0.012749          0.021157          0.028466  ...   \n",
       "2             0.018464          0.011266          0.030654  ...   \n",
       "3             0.008767          0.005349          0.030654  ...   \n",
       "4             0.010331          0.004779          0.028765  ...   \n",
       "...                ...               ...               ...  ...   \n",
       "7347          0.530383          0.530205          0.605398  ...   \n",
       "7348          0.493247          0.540293          0.558720  ...   \n",
       "7349          0.457948          0.666292          0.521999  ...   \n",
       "7350          0.473556          0.659737          0.550851  ...   \n",
       "7351          0.488560          0.614715          0.634506  ...   \n",
       "\n",
       "      fBodyBodyGyroJerkMag-skewness()  fBodyBodyGyroJerkMag-kurtosis()  \\\n",
       "0                            0.350991                         0.147940   \n",
       "1                            0.201676                         0.070666   \n",
       "2                            0.304605                         0.122488   \n",
       "3                            0.442374                         0.264192   \n",
       "4                            0.324393                         0.153612   \n",
       "...                               ...                              ...   \n",
       "7347                         0.205011                         0.061044   \n",
       "7348                         0.304610                         0.163047   \n",
       "7349                         0.514134                         0.355582   \n",
       "7350                         0.533662                         0.334993   \n",
       "7351                         0.306467                         0.132385   \n",
       "\n",
       "      angle(tBodyAccMean,gravity)  angle(tBodyAccJerkMean),gravityMean)  \\\n",
       "0                        0.437030                              0.515200   \n",
       "1                        0.521131                              0.496283   \n",
       "2                        0.434094                              0.588950   \n",
       "3                        0.475464                              0.493554   \n",
       "4                        0.556466                              0.561271   \n",
       "...                           ...                                   ...   \n",
       "7347                     0.397729                              0.914859   \n",
       "7348                     0.526914                              0.937840   \n",
       "7349                     0.520791                              0.366638   \n",
       "7350                     0.442795                              0.850370   \n",
       "7351                     0.352372                              0.496130   \n",
       "\n",
       "      angle(tBodyGyroMean,gravityMean)  angle(tBodyGyroJerkMean,gravityMean)  \\\n",
       "0                             0.267793                              0.491741   \n",
       "1                             0.133774                              0.853429   \n",
       "2                             0.550707                              0.906041   \n",
       "3                             0.820538                              0.257822   \n",
       "4                             0.847339                              0.192392   \n",
       "...                                ...                                   ...   \n",
       "7347                          0.603878                              0.287755   \n",
       "7348                          0.060523                              0.701485   \n",
       "7349                          0.932807                              0.852256   \n",
       "7350                          0.968966                              0.205664   \n",
       "7351                          0.472263                              0.191898   \n",
       "\n",
       "      angle(X,gravityMean)  angle(Y,gravityMean)  angle(Z,gravityMean)  \\\n",
       "0                 0.079377              0.798251              0.470687   \n",
       "1                 0.077606              0.798487              0.472842   \n",
       "2                 0.075533              0.798722              0.475441   \n",
       "3                 0.075675              0.799600              0.476168   \n",
       "4                 0.076067              0.801776              0.478054   \n",
       "...                    ...                   ...                   ...   \n",
       "7347              0.104058              0.837938              0.524910   \n",
       "7348              0.114080              0.847458              0.525026   \n",
       "7349              0.110434              0.845069              0.520406   \n",
       "7350              0.107409              0.843234              0.512670   \n",
       "7351              0.108367              0.843488              0.518347   \n",
       "\n",
       "      subject  \n",
       "0         0.0  \n",
       "1         0.0  \n",
       "2         0.0  \n",
       "3         0.0  \n",
       "4         0.0  \n",
       "...       ...  \n",
       "7347      1.0  \n",
       "7348      1.0  \n",
       "7349      1.0  \n",
       "7350      1.0  \n",
       "7351      1.0  \n",
       "\n",
       "[7352 rows x 562 columns]"
      ]
     },
     "execution_count": 27,
     "metadata": {},
     "output_type": "execute_result"
    }
   ],
   "source": [
    "from sklearn.preprocessing import MinMaxScaler\n",
    "\n",
    "\n",
    "scaler = MinMaxScaler()\n",
    "scaler.fit(X)\n",
    "scaled = scaler.fit_transform(X)\n",
    "X_max_min = pd.DataFrame(scaled, columns=X.columns)\n",
    "X_max_min"
   ]
  },
  {
   "cell_type": "code",
   "execution_count": 28,
   "metadata": {},
   "outputs": [
    {
     "name": "stdout",
     "output_type": "stream",
     "text": [
      "X_train_chi2_100: (5881, 100)\n",
      "X_test_chi2_100: (1471, 100)\n",
      "y_train_chi2_100: (5881,)\n",
      "y_test_chi2_100: (1471,)\n",
      "accuracy_chi2_100: 0.8123725356900068\n"
     ]
    },
    {
     "name": "stderr",
     "output_type": "stream",
     "text": [
      "/home/parham/anaconda3/lib/python3.9/site-packages/sklearn/linear_model/_logistic.py:814: ConvergenceWarning: lbfgs failed to converge (status=1):\n",
      "STOP: TOTAL NO. of ITERATIONS REACHED LIMIT.\n",
      "\n",
      "Increase the number of iterations (max_iter) or scale the data as shown in:\n",
      "    https://scikit-learn.org/stable/modules/preprocessing.html\n",
      "Please also refer to the documentation for alternative solver options:\n",
      "    https://scikit-learn.org/stable/modules/linear_model.html#logistic-regression\n",
      "  n_iter_i = _check_optimize_result(\n"
     ]
    }
   ],
   "source": [
    "feature_selection_SelectKBest_100 = SelectKBest(chi2, k=100)\n",
    "X_feature_selection_chi2_100 = feature_selection_SelectKBest_100.fit_transform(X_max_min, y)\n",
    "X_feature_selection_chi2_100.shape\n",
    "X_train_chi2_100, X_test_chi2_100,y_train_chi2_100, y_test_chi2_100 = train_test_split(X_feature_selection_chi2_100,y, test_size=0.2)\n",
    "print(f\"X_train_chi2_100: {X_train_chi2_100.shape}\")\n",
    "print(f\"X_test_chi2_100: {X_test_chi2_100.shape}\")\n",
    "print(f\"y_train_chi2_100: {y_train_chi2_100.shape}\")\n",
    "print(f\"y_test_chi2_100: {y_test_chi2_100.shape}\")\n",
    "fitted_LR_chi2_100 = LR_classifer.fit(X_train_chi2_100, y_train_chi2_100)\n",
    "y_predicted_chi2_100 = fitted_LR_chi2_100.predict(X_test_chi2_100)\n",
    "accuracy_prediction_chi2_100 = accuracy_score(y_test_chi2_100, y_predicted_chi2_100)\n",
    "print(f\"accuracy_chi2_100: {accuracy_prediction_chi2_100}\")"
   ]
  },
  {
   "cell_type": "code",
   "execution_count": 29,
   "metadata": {},
   "outputs": [
    {
     "name": "stdout",
     "output_type": "stream",
     "text": [
      "X_train_chi2_200: (5881, 200)\n",
      "X_test_chi2_200: (1471, 200)\n",
      "y_train_chi2_200: (5881,)\n",
      "y_test_chi2_200: (1471,)\n",
      "accuracy_chi2_200: 0.8966689326988443\n"
     ]
    },
    {
     "name": "stderr",
     "output_type": "stream",
     "text": [
      "/home/parham/anaconda3/lib/python3.9/site-packages/sklearn/linear_model/_logistic.py:814: ConvergenceWarning: lbfgs failed to converge (status=1):\n",
      "STOP: TOTAL NO. of ITERATIONS REACHED LIMIT.\n",
      "\n",
      "Increase the number of iterations (max_iter) or scale the data as shown in:\n",
      "    https://scikit-learn.org/stable/modules/preprocessing.html\n",
      "Please also refer to the documentation for alternative solver options:\n",
      "    https://scikit-learn.org/stable/modules/linear_model.html#logistic-regression\n",
      "  n_iter_i = _check_optimize_result(\n"
     ]
    }
   ],
   "source": [
    "feature_selection_SelectKBest_200 = SelectKBest(chi2, k=200)\n",
    "X_feature_selection_chi2_200 = feature_selection_SelectKBest_200.fit_transform(X_max_min, y)\n",
    "X_feature_selection_chi2_200.shape\n",
    "X_train_chi2_200, X_test_chi2_200,y_train_chi2_200, y_test_chi2_200 = train_test_split(X_feature_selection_chi2_200,y, test_size=0.2)\n",
    "print(f\"X_train_chi2_200: {X_train_chi2_200.shape}\")\n",
    "print(f\"X_test_chi2_200: {X_test_chi2_200.shape}\")\n",
    "print(f\"y_train_chi2_200: {y_train_chi2_200.shape}\")\n",
    "print(f\"y_test_chi2_200: {y_test_chi2_200.shape}\")\n",
    "fitted_LR_chi2_200 = LR_classifer.fit(X_train_chi2_200, y_train_chi2_200)\n",
    "y_predicted_chi2_200 = fitted_LR_chi2_200.predict(X_test_chi2_200)\n",
    "accuracy_prediction_chi2_200 = accuracy_score(y_test_chi2_200, y_predicted_chi2_200)\n",
    "print(f\"accuracy_chi2_200: {accuracy_prediction_chi2_200}\")"
   ]
  },
  {
   "cell_type": "code",
   "execution_count": 30,
   "metadata": {},
   "outputs": [
    {
     "name": "stdout",
     "output_type": "stream",
     "text": [
      "X_train_chi2_300: (5881, 300)\n",
      "X_test_chi2_300: (1471, 300)\n",
      "y_train_chi2_300: (5881,)\n",
      "y_test_chi2_300: (1471,)\n",
      "accuracy_chi2_300: 0.9061862678450034\n"
     ]
    },
    {
     "name": "stderr",
     "output_type": "stream",
     "text": [
      "/home/parham/anaconda3/lib/python3.9/site-packages/sklearn/linear_model/_logistic.py:814: ConvergenceWarning: lbfgs failed to converge (status=1):\n",
      "STOP: TOTAL NO. of ITERATIONS REACHED LIMIT.\n",
      "\n",
      "Increase the number of iterations (max_iter) or scale the data as shown in:\n",
      "    https://scikit-learn.org/stable/modules/preprocessing.html\n",
      "Please also refer to the documentation for alternative solver options:\n",
      "    https://scikit-learn.org/stable/modules/linear_model.html#logistic-regression\n",
      "  n_iter_i = _check_optimize_result(\n"
     ]
    }
   ],
   "source": [
    "feature_selection_SelectKBest_300 = SelectKBest(chi2, k=300)\n",
    "X_feature_selection_chi2_300 = feature_selection_SelectKBest_300.fit_transform(X_max_min, y)\n",
    "X_feature_selection_chi2_300.shape\n",
    "X_train_chi2_300, X_test_chi2_300,y_train_chi2_300, y_test_chi2_300 = train_test_split(X_feature_selection_chi2_300,y, test_size=0.2)\n",
    "print(f\"X_train_chi2_300: {X_train_chi2_300.shape}\")\n",
    "print(f\"X_test_chi2_300: {X_test_chi2_300.shape}\")\n",
    "print(f\"y_train_chi2_300: {y_train_chi2_300.shape}\")\n",
    "print(f\"y_test_chi2_300: {y_test_chi2_300.shape}\")\n",
    "fitted_LR_chi2_300 = LR_classifer.fit(X_train_chi2_300, y_train_chi2_300)\n",
    "y_predicted_chi2_300 = fitted_LR_chi2_300.predict(X_test_chi2_300)\n",
    "accuracy_prediction_chi2_300 = accuracy_score(y_test_chi2_300, y_predicted_chi2_300)\n",
    "print(f\"accuracy_chi2_300: {accuracy_prediction_chi2_300}\")"
   ]
  },
  {
   "cell_type": "code",
   "execution_count": 31,
   "metadata": {},
   "outputs": [
    {
     "name": "stdout",
     "output_type": "stream",
     "text": [
      "X_train_chi2_400: (5881, 400)\n",
      "X_test_chi2_400: (1471, 400)\n",
      "y_train_chi2_400: (5881,)\n",
      "y_test_chi2_400: (1471,)\n",
      "accuracy_chi2_400: 0.849762066621346\n"
     ]
    },
    {
     "name": "stderr",
     "output_type": "stream",
     "text": [
      "/home/parham/anaconda3/lib/python3.9/site-packages/sklearn/linear_model/_logistic.py:814: ConvergenceWarning: lbfgs failed to converge (status=1):\n",
      "STOP: TOTAL NO. of ITERATIONS REACHED LIMIT.\n",
      "\n",
      "Increase the number of iterations (max_iter) or scale the data as shown in:\n",
      "    https://scikit-learn.org/stable/modules/preprocessing.html\n",
      "Please also refer to the documentation for alternative solver options:\n",
      "    https://scikit-learn.org/stable/modules/linear_model.html#logistic-regression\n",
      "  n_iter_i = _check_optimize_result(\n"
     ]
    }
   ],
   "source": [
    "feature_selection_SelectKBest_400 = SelectKBest(chi2, k=400)\n",
    "X_feature_selection_chi2_400 = feature_selection_SelectKBest_400.fit_transform(X_max_min, y)\n",
    "X_feature_selection_chi2_400.shape\n",
    "X_train_chi2_400, X_test_chi2_400,y_train_chi2_400, y_test_chi2_400 = train_test_split(X_feature_selection_chi2_400,y, test_size=0.2)\n",
    "print(f\"X_train_chi2_400: {X_train_chi2_400.shape}\")\n",
    "print(f\"X_test_chi2_400: {X_test_chi2_400.shape}\")\n",
    "print(f\"y_train_chi2_400: {y_train_chi2_400.shape}\")\n",
    "print(f\"y_test_chi2_400: {y_test_chi2_400.shape}\")\n",
    "fitted_LR_chi2_400 = LR_classifer.fit(X_train_chi2_400, y_train_chi2_400)\n",
    "y_predicted_chi2_400 = fitted_LR_chi2_400.predict(X_test_chi2_400)\n",
    "accuracy_prediction_chi2_400 = accuracy_score(y_test_chi2_400, y_predicted_chi2_400)\n",
    "print(f\"accuracy_chi2_400: {accuracy_prediction_chi2_400}\")"
   ]
  },
  {
   "cell_type": "code",
   "execution_count": 32,
   "metadata": {},
   "outputs": [
    {
     "data": {
      "image/png": "[encoded data removed]",
      "text/plain": [
       "<Figure size 1000x500 with 1 Axes>"
      ]
     },
     "metadata": {},
     "output_type": "display_data"
    }
   ],
   "source": [
    "import matplotlib.pyplot as plt\n",
    "\n",
    "execution = (\"original data\", 'accuracy_100','accuracy_200',\n",
    "             'accuracy_300','accuracy_400')\n",
    "accuracy = [float(round(first_prediction*100,2)), float(round(accuracy_prediction_chi2_100*100,2)), float(round(accuracy_prediction_chi2_200*100,2)), \n",
    "            float(round(accuracy_prediction_chi2_300*100,2)), float(round(accuracy_prediction_chi2_400*100,2))]\n",
    "fig = plt.figure(figsize = (10, 5))\n",
    "plt.bar(execution,accuracy)\n",
    "\n",
    "for index, value in enumerate(accuracy):\n",
    "    plt.text(index, value,str(value))\n",
    "    \n",
    "plt.show()"
   ]
  },
  {
   "cell_type": "markdown",
   "metadata": {},
   "source": [
    "mutual_info_classif"
   ]
  },
  {
   "cell_type": "markdown",
   "metadata": {
    "execution": {
     "iopub.execute_input": "2023-04-16T20:28:46.040269Z",
     "iopub.status.busy": "2023-04-16T20:28:46.039036Z",
     "iopub.status.idle": "2023-04-16T20:28:46.046767Z",
     "shell.execute_reply": "2023-04-16T20:28:46.045246Z",
     "shell.execute_reply.started": "2023-04-16T20:28:46.040219Z"
    }
   },
   "source": [
    "Summary of Kbest"
   ]
  },
  {
   "cell_type": "code",
   "execution_count": 33,
   "metadata": {},
   "outputs": [
    {
     "data": {
      "image/png": "[encoded data removed]",
      "text/plain": [
       "<Figure size 2000x500 with 1 Axes>"
      ]
     },
     "metadata": {},
     "output_type": "display_data"
    }
   ],
   "source": [
    "execution = (\"original data\", 'f_classif_100','f_classif_200',\n",
    "             'f_classif_300','f_classif_400','chi2_100','chi2_200',\n",
    "             'chi2_300','chi2_400')\n",
    "accuracy = [float(round(first_prediction*100,2)), float(round(accuracy_prediction_f_classif_100*100,2)), float(round(accuracy_prediction_f_classif_200*100,2)), \n",
    "            float(round(accuracy_prediction_f_classif_300*100,2)), float(round(accuracy_prediction_f_classif_400*100,2)), float(round(accuracy_prediction_chi2_100*100,2)), float(round(accuracy_prediction_chi2_200*100,2)), \n",
    "            float(round(accuracy_prediction_chi2_300*100,2)), float(round(accuracy_prediction_chi2_400*100,2))]\n",
    "fig = plt.figure(figsize = (20, 5))\n",
    "plt.bar(execution,accuracy)\n",
    "\n",
    "for index, value in enumerate(accuracy):\n",
    "    plt.text(index, value,str(value))\n",
    "    \n",
    "plt.show()"
   ]
  },
  {
   "cell_type": "code",
   "execution_count": 34,
   "metadata": {},
   "outputs": [],
   "source": [
    "from sklearn.feature_selection import SelectPercentile"
   ]
  },
  {
   "cell_type": "code",
   "execution_count": 35,
   "metadata": {},
   "outputs": [
    {
     "name": "stdout",
     "output_type": "stream",
     "text": [
      "X_train_f_classif_25: (5881, 141)\n",
      "X_test_f_classif_25: (1471, 141)\n",
      "y_train_f_classif_25: (5881,)\n",
      "y_test_f_classif_25: (1471,)\n",
      "accuracy_f_classif_25: 0.7804214819850442\n"
     ]
    },
    {
     "name": "stderr",
     "output_type": "stream",
     "text": [
      "/home/parham/anaconda3/lib/python3.9/site-packages/sklearn/linear_model/_logistic.py:814: ConvergenceWarning: lbfgs failed to converge (status=1):\n",
      "STOP: TOTAL NO. of ITERATIONS REACHED LIMIT.\n",
      "\n",
      "Increase the number of iterations (max_iter) or scale the data as shown in:\n",
      "    https://scikit-learn.org/stable/modules/preprocessing.html\n",
      "Please also refer to the documentation for alternative solver options:\n",
      "    https://scikit-learn.org/stable/modules/linear_model.html#logistic-regression\n",
      "  n_iter_i = _check_optimize_result(\n"
     ]
    }
   ],
   "source": [
    "feature_selection_SelectPercentile_25 = SelectPercentile(f_classif, percentile=25)\n",
    "X_feature_selection_f_classif_25 = feature_selection_SelectPercentile_25.fit_transform(X, y)\n",
    "X_feature_selection_f_classif_25.shape\n",
    "X_train_f_classif_25, X_test_f_classif_25,y_train_f_classif_25, y_test_f_classif_25 = train_test_split(X_feature_selection_f_classif_25,y, test_size=0.2)\n",
    "print(f\"X_train_f_classif_25: {X_train_f_classif_25.shape}\")\n",
    "print(f\"X_test_f_classif_25: {X_test_f_classif_25.shape}\")\n",
    "print(f\"y_train_f_classif_25: {y_train_f_classif_25.shape}\")\n",
    "print(f\"y_test_f_classif_25: {y_test_f_classif_25.shape}\")\n",
    "fitted_LR_f_classif_25 = LR_classifer.fit(X_train_f_classif_25, y_train_f_classif_25)\n",
    "y_predicted_f_classif_25 = fitted_LR_f_classif_25.predict(X_test_f_classif_25)\n",
    "accuracy_prediction_f_classif_25 = accuracy_score(y_test_f_classif_25, y_predicted_f_classif_25)\n",
    "print(f\"accuracy_f_classif_25: {accuracy_prediction_f_classif_25}\")"
   ]
  },
  {
   "cell_type": "code",
   "execution_count": 36,
   "metadata": {},
   "outputs": [
    {
     "name": "stdout",
     "output_type": "stream",
     "text": [
      "X_train_f_classif_50: (5881, 281)\n",
      "X_test_f_classif_50: (1471, 281)\n",
      "y_train_f_classif_50: (5881,)\n",
      "y_test_f_classif_50: (1471,)\n",
      "accuracy_f_classif_50: 0.8742352141400408\n"
     ]
    },
    {
     "name": "stderr",
     "output_type": "stream",
     "text": [
      "/home/parham/anaconda3/lib/python3.9/site-packages/sklearn/linear_model/_logistic.py:814: ConvergenceWarning: lbfgs failed to converge (status=1):\n",
      "STOP: TOTAL NO. of ITERATIONS REACHED LIMIT.\n",
      "\n",
      "Increase the number of iterations (max_iter) or scale the data as shown in:\n",
      "    https://scikit-learn.org/stable/modules/preprocessing.html\n",
      "Please also refer to the documentation for alternative solver options:\n",
      "    https://scikit-learn.org/stable/modules/linear_model.html#logistic-regression\n",
      "  n_iter_i = _check_optimize_result(\n"
     ]
    }
   ],
   "source": [
    "feature_selection_SelectPercentile_50 = SelectPercentile(f_classif, percentile=50)\n",
    "X_feature_selection_f_classif_50 = feature_selection_SelectPercentile_50.fit_transform(X, y)\n",
    "X_feature_selection_f_classif_50.shape\n",
    "X_train_f_classif_50, X_test_f_classif_50,y_train_f_classif_50, y_test_f_classif_50 = train_test_split(X_feature_selection_f_classif_50,y, test_size=0.2)\n",
    "print(f\"X_train_f_classif_50: {X_train_f_classif_50.shape}\")\n",
    "print(f\"X_test_f_classif_50: {X_test_f_classif_50.shape}\")\n",
    "print(f\"y_train_f_classif_50: {y_train_f_classif_50.shape}\")\n",
    "print(f\"y_test_f_classif_50: {y_test_f_classif_50.shape}\")\n",
    "fitted_LR_f_classif_50 = LR_classifer.fit(X_train_f_classif_50, y_train_f_classif_50)\n",
    "y_predicted_f_classif_50 = fitted_LR_f_classif_50.predict(X_test_f_classif_50)\n",
    "accuracy_prediction_f_classif_50 = accuracy_score(y_test_f_classif_50, y_predicted_f_classif_50)\n",
    "print(f\"accuracy_f_classif_50: {accuracy_prediction_f_classif_50}\")"
   ]
  },
  {
   "cell_type": "code",
   "execution_count": 37,
   "metadata": {},
   "outputs": [
    {
     "name": "stdout",
     "output_type": "stream",
     "text": [
      "X_train_f_classif_75: (5881, 421)\n",
      "X_test_f_classif_75: (1471, 421)\n",
      "y_train_f_classif_75: (5881,)\n",
      "y_test_f_classif_75: (1471,)\n",
      "accuracy_f_classif_75: 0.8647178789938818\n"
     ]
    },
    {
     "name": "stderr",
     "output_type": "stream",
     "text": [
      "/home/parham/anaconda3/lib/python3.9/site-packages/sklearn/linear_model/_logistic.py:814: ConvergenceWarning: lbfgs failed to converge (status=1):\n",
      "STOP: TOTAL NO. of ITERATIONS REACHED LIMIT.\n",
      "\n",
      "Increase the number of iterations (max_iter) or scale the data as shown in:\n",
      "    https://scikit-learn.org/stable/modules/preprocessing.html\n",
      "Please also refer to the documentation for alternative solver options:\n",
      "    https://scikit-learn.org/stable/modules/linear_model.html#logistic-regression\n",
      "  n_iter_i = _check_optimize_result(\n"
     ]
    }
   ],
   "source": [
    "feature_selection_SelectPercentile_75 = SelectPercentile(f_classif, percentile=75)\n",
    "X_feature_selection_f_classif_75 = feature_selection_SelectPercentile_75.fit_transform(X, y)\n",
    "X_feature_selection_f_classif_75.shape\n",
    "X_train_f_classif_75, X_test_f_classif_75,y_train_f_classif_75, y_test_f_classif_75 = train_test_split(X_feature_selection_f_classif_75,y, test_size=0.2)\n",
    "print(f\"X_train_f_classif_75: {X_train_f_classif_75.shape}\")\n",
    "print(f\"X_test_f_classif_75: {X_test_f_classif_75.shape}\")\n",
    "print(f\"y_train_f_classif_75: {y_train_f_classif_75.shape}\")\n",
    "print(f\"y_test_f_classif_75: {y_test_f_classif_75.shape}\")\n",
    "fitted_LR_f_classif_75 = LR_classifer.fit(X_train_f_classif_75, y_train_f_classif_75)\n",
    "y_predicted_f_classif_75 = fitted_LR_f_classif_75.predict(X_test_f_classif_75)\n",
    "accuracy_prediction_f_classif_75 = accuracy_score(y_test_f_classif_75, y_predicted_f_classif_75)\n",
    "print(f\"accuracy_f_classif_75: {accuracy_prediction_f_classif_75}\")"
   ]
  },
  {
   "cell_type": "code",
   "execution_count": 38,
   "metadata": {},
   "outputs": [
    {
     "data": {
      "image/png": "[encoded data removed]",
      "text/plain": [
       "<Figure size 1000x500 with 1 Axes>"
      ]
     },
     "metadata": {},
     "output_type": "display_data"
    }
   ],
   "source": [
    "execution = (\"original data\", 'accuracy_25P','accuracy_50P',\n",
    "             'accuracy_75P')\n",
    "accuracy = [float(round(first_prediction*100,2)), float(round(accuracy_prediction_f_classif_25*100,2)), float(round(accuracy_prediction_f_classif_50*100,2)), \n",
    "            float(round(accuracy_prediction_f_classif_75*100,2))]\n",
    "fig = plt.figure(figsize = (10, 5))\n",
    "plt.bar(execution,accuracy)\n",
    "\n",
    "for index, value in enumerate(accuracy):\n",
    "    plt.text(index, value,str(value))\n",
    "    \n",
    "plt.show()"
   ]
  },
  {
   "cell_type": "markdown",
   "metadata": {},
   "source": [
    "# PCA"
   ]
  },
  {
   "cell_type": "code",
   "execution_count": 39,
   "metadata": {},
   "outputs": [],
   "source": [
    "from sklearn import decomposition\n"
   ]
  },
  {
   "cell_type": "code",
   "execution_count": 40,
   "metadata": {},
   "outputs": [],
   "source": [
    "pca_100 = decomposition.PCA(n_components=100)\n",
    "pca_100.fit(X)\n",
    "X_pca_100 = pca_100.transform(X)"
   ]
  },
  {
   "cell_type": "code",
   "execution_count": 41,
   "metadata": {},
   "outputs": [
    {
     "data": {
      "text/plain": [
       "(7352, 100)"
      ]
     },
     "execution_count": 41,
     "metadata": {},
     "output_type": "execute_result"
    }
   ],
   "source": [
    "X_pca_100.shape"
   ]
  },
  {
   "cell_type": "code",
   "execution_count": 42,
   "metadata": {},
   "outputs": [],
   "source": [
    "X_train_pca_100, X_test_pca_100,y_train_pca_100, y_test_pca_100 = train_test_split(X_pca_100,y, test_size=0.2)"
   ]
  },
  {
   "cell_type": "code",
   "execution_count": 43,
   "metadata": {},
   "outputs": [
    {
     "name": "stdout",
     "output_type": "stream",
     "text": [
      "X_train_pca_100: (5881, 100)\n",
      "X_test_pca_100: (1471, 100)\n",
      "y_train_pca_100: (5881,)\n",
      "y_test_pca_100: (1471,)\n"
     ]
    }
   ],
   "source": [
    "print(f\"X_train_pca_100: {X_train_pca_100.shape}\")\n",
    "print(f\"X_test_pca_100: {X_test_pca_100.shape}\")\n",
    "print(f\"y_train_pca_100: {y_train_pca_100.shape}\")\n",
    "print(f\"y_test_pca_100: {y_test_pca_100.shape}\")"
   ]
  },
  {
   "cell_type": "code",
   "execution_count": 44,
   "metadata": {},
   "outputs": [
    {
     "name": "stderr",
     "output_type": "stream",
     "text": [
      "/home/parham/anaconda3/lib/python3.9/site-packages/sklearn/linear_model/_logistic.py:814: ConvergenceWarning: lbfgs failed to converge (status=1):\n",
      "STOP: TOTAL NO. of ITERATIONS REACHED LIMIT.\n",
      "\n",
      "Increase the number of iterations (max_iter) or scale the data as shown in:\n",
      "    https://scikit-learn.org/stable/modules/preprocessing.html\n",
      "Please also refer to the documentation for alternative solver options:\n",
      "    https://scikit-learn.org/stable/modules/linear_model.html#logistic-regression\n",
      "  n_iter_i = _check_optimize_result(\n"
     ]
    }
   ],
   "source": [
    "fitted_LR_pca_100 = LR_classifer.fit(X_train_pca_100, y_train_pca_100)"
   ]
  },
  {
   "cell_type": "code",
   "execution_count": 45,
   "metadata": {},
   "outputs": [],
   "source": [
    "y_predicted_pca_100 = fitted_LR_pca_100.predict(X_test_pca_100)"
   ]
  },
  {
   "cell_type": "code",
   "execution_count": 46,
   "metadata": {},
   "outputs": [
    {
     "name": "stdout",
     "output_type": "stream",
     "text": [
      "accuracy_pca_100: 0.8966689326988443\n"
     ]
    }
   ],
   "source": [
    "accuracy_prediction_pca_100 = accuracy_score(y_test_pca_100, y_predicted_pca_100)\n",
    "print(f\"accuracy_pca_100: {accuracy_prediction_pca_100}\")"
   ]
  },
  {
   "cell_type": "code",
   "execution_count": 47,
   "metadata": {},
   "outputs": [
    {
     "name": "stdout",
     "output_type": "stream",
     "text": [
      "X_train_pca_200: (5881, 200)\n",
      "X_test_pca_200: (1471, 200)\n",
      "y_train_pca_200: (5881,)\n",
      "y_test_pca_200: (1471,)\n",
      "accuracy_pca_200: 0.9014276002719238\n"
     ]
    },
    {
     "name": "stderr",
     "output_type": "stream",
     "text": [
      "/home/parham/anaconda3/lib/python3.9/site-packages/sklearn/linear_model/_logistic.py:814: ConvergenceWarning: lbfgs failed to converge (status=1):\n",
      "STOP: TOTAL NO. of ITERATIONS REACHED LIMIT.\n",
      "\n",
      "Increase the number of iterations (max_iter) or scale the data as shown in:\n",
      "    https://scikit-learn.org/stable/modules/preprocessing.html\n",
      "Please also refer to the documentation for alternative solver options:\n",
      "    https://scikit-learn.org/stable/modules/linear_model.html#logistic-regression\n",
      "  n_iter_i = _check_optimize_result(\n"
     ]
    }
   ],
   "source": [
    "pca_200 = decomposition.PCA(n_components=200)\n",
    "pca_200.fit(X)\n",
    "X_pca_200 = pca_200.transform(X)\n",
    "X_train_pca_200, X_test_pca_200,y_train_pca_200, y_test_pca_200 = train_test_split(X_pca_200,y, test_size=0.2)\n",
    "print(f\"X_train_pca_200: {X_train_pca_200.shape}\")\n",
    "print(f\"X_test_pca_200: {X_test_pca_200.shape}\")\n",
    "print(f\"y_train_pca_200: {y_train_pca_200.shape}\")\n",
    "print(f\"y_test_pca_200: {y_test_pca_200.shape}\")\n",
    "fitted_LR_pca_200 = LR_classifer.fit(X_train_pca_200, y_train_pca_200)\n",
    "y_predicted_pca_200 = fitted_LR_pca_200.predict(X_test_pca_200)\t\n",
    "accuracy_prediction_pca_200 = accuracy_score(y_test_pca_200, y_predicted_pca_200)\n",
    "print(f\"accuracy_pca_200: {accuracy_prediction_pca_200}\")"
   ]
  },
  {
   "cell_type": "code",
   "execution_count": 48,
   "metadata": {},
   "outputs": [
    {
     "name": "stdout",
     "output_type": "stream",
     "text": [
      "X_train_pca_300: (5881, 300)\n",
      "X_test_pca_300: (1471, 300)\n",
      "y_train_pca_300: (5881,)\n",
      "y_test_pca_300: (1471,)\n",
      "accuracy_pca_300: 0.8905506458191706\n"
     ]
    },
    {
     "name": "stderr",
     "output_type": "stream",
     "text": [
      "/home/parham/anaconda3/lib/python3.9/site-packages/sklearn/linear_model/_logistic.py:814: ConvergenceWarning: lbfgs failed to converge (status=1):\n",
      "STOP: TOTAL NO. of ITERATIONS REACHED LIMIT.\n",
      "\n",
      "Increase the number of iterations (max_iter) or scale the data as shown in:\n",
      "    https://scikit-learn.org/stable/modules/preprocessing.html\n",
      "Please also refer to the documentation for alternative solver options:\n",
      "    https://scikit-learn.org/stable/modules/linear_model.html#logistic-regression\n",
      "  n_iter_i = _check_optimize_result(\n"
     ]
    }
   ],
   "source": [
    "pca_300 = decomposition.PCA(n_components=300)\n",
    "pca_300.fit(X)\n",
    "X_pca_300 = pca_300.transform(X)\n",
    "X_train_pca_300, X_test_pca_300,y_train_pca_300, y_test_pca_300 = train_test_split(X_pca_300,y, test_size=0.2)\n",
    "print(f\"X_train_pca_300: {X_train_pca_300.shape}\")\n",
    "print(f\"X_test_pca_300: {X_test_pca_300.shape}\")\n",
    "print(f\"y_train_pca_300: {y_train_pca_300.shape}\")\n",
    "print(f\"y_test_pca_300: {y_test_pca_300.shape}\")\n",
    "fitted_LR_pca_300 = LR_classifer.fit(X_train_pca_300, y_train_pca_300)\n",
    "y_predicted_pca_300 = fitted_LR_pca_300.predict(X_test_pca_300)\t\n",
    "accuracy_prediction_pca_300 = accuracy_score(y_test_pca_300, y_predicted_pca_300)\n",
    "print(f\"accuracy_pca_300: {accuracy_prediction_pca_300}\")"
   ]
  },
  {
   "cell_type": "code",
   "execution_count": 49,
   "metadata": {},
   "outputs": [
    {
     "name": "stdout",
     "output_type": "stream",
     "text": [
      "X_train_pca_400: (5881, 400)\n",
      "X_test_pca_400: (1471, 400)\n",
      "y_train_pca_400: (5881,)\n",
      "y_test_pca_400: (1471,)\n",
      "accuracy_pca_400: 0.8789938817131203\n"
     ]
    },
    {
     "name": "stderr",
     "output_type": "stream",
     "text": [
      "/home/parham/anaconda3/lib/python3.9/site-packages/sklearn/linear_model/_logistic.py:814: ConvergenceWarning: lbfgs failed to converge (status=1):\n",
      "STOP: TOTAL NO. of ITERATIONS REACHED LIMIT.\n",
      "\n",
      "Increase the number of iterations (max_iter) or scale the data as shown in:\n",
      "    https://scikit-learn.org/stable/modules/preprocessing.html\n",
      "Please also refer to the documentation for alternative solver options:\n",
      "    https://scikit-learn.org/stable/modules/linear_model.html#logistic-regression\n",
      "  n_iter_i = _check_optimize_result(\n"
     ]
    }
   ],
   "source": [
    "pca_400 = decomposition.PCA(n_components=400)\n",
    "pca_400.fit(X)\n",
    "X_pca_400 = pca_400.transform(X)\n",
    "X_train_pca_400, X_test_pca_400,y_train_pca_400, y_test_pca_400 = train_test_split(X_pca_400,y, test_size=0.2)\n",
    "print(f\"X_train_pca_400: {X_train_pca_400.shape}\")\n",
    "print(f\"X_test_pca_400: {X_test_pca_400.shape}\")\n",
    "print(f\"y_train_pca_400: {y_train_pca_400.shape}\")\n",
    "print(f\"y_test_pca_400: {y_test_pca_400.shape}\")\n",
    "fitted_LR_pca_400 = LR_classifer.fit(X_train_pca_400, y_train_pca_400)\n",
    "y_predicted_pca_400 = fitted_LR_pca_400.predict(X_test_pca_400)\t\n",
    "accuracy_prediction_pca_400 = accuracy_score(y_test_pca_400, y_predicted_pca_400)\n",
    "print(f\"accuracy_pca_400: {accuracy_prediction_pca_400}\")"
   ]
  },
  {
   "cell_type": "code",
   "execution_count": 50,
   "metadata": {},
   "outputs": [
    {
     "data": {
      "image/png": "[encoded data removed]",
      "text/plain": [
       "<Figure size 1000x500 with 1 Axes>"
      ]
     },
     "metadata": {},
     "output_type": "display_data"
    }
   ],
   "source": [
    "execution = (\"original data\", 'accuracy_100','accuracy_200',\n",
    "             'accuracy_300','accuracy_400')\n",
    "accuracy = [float(round(first_prediction*100,2)), float(round(accuracy_prediction_pca_100*100,2)), float(round(accuracy_prediction_pca_200*100,2)), \n",
    "            float(round(accuracy_prediction_pca_300*100,2)), float(round(accuracy_prediction_pca_400*100,2))]\n",
    "fig = plt.figure(figsize = (10, 5))\n",
    "plt.bar(execution,accuracy)\n",
    "\n",
    "for index, value in enumerate(accuracy):\n",
    "    plt.text(index, value,str(value))\n",
    "    \n",
    "plt.show()"
   ]
  }
 ],
 "metadata": {
  "kernelspec": {
   "display_name": "Python 3 (ipykernel)",
   "language": "python",
   "name": "python3"
  },
  "language_info": {
   "codemirror_mode": {
    "name": "ipython",
    "version": 3
   },
   "file_extension": ".py",
   "mimetype": "text/x-python",
   "name": "python",
   "nbconvert_exporter": "python",
   "pygments_lexer": "ipython3",
   "version": "3.9.15"
  }
 },
 "nbformat": 4,
 "nbformat_minor": 4
}
