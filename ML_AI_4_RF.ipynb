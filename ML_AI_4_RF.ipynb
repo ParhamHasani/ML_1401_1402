{
 "cells": [
  {
   "cell_type": "markdown",
   "metadata": {},
   "source": [
    "# The purpose of this code is review types of dimension reductions in Random forest Algorithms with depth = 10."
   ]
  },
  {
   "cell_type": "code",
   "execution_count": 1,
   "metadata": {
    "_cell_guid": "b1076dfc-b9ad-4769-8c92-a6c4dae69d19",
    "_uuid": "8f2839f25d086af736a60e9eeb907d3b93b6e0e5"
   },
   "outputs": [],
   "source": [
    "import os\n",
    "import pandas as pd\n",
    "import sklearn \n",
    "from sklearn.model_selection import train_test_split\n",
    "from sklearn.ensemble import RandomForestClassifier\n",
    "from sklearn.metrics import accuracy_score\n",
    "import decimal\n"
   ]
  },
  {
   "cell_type": "code",
   "execution_count": 2,
   "metadata": {},
   "outputs": [],
   "source": [
    "df = pd.read_csv(\"human-activity-recognition-with-smartphones.csv\")"
   ]
  },
  {
   "cell_type": "code",
   "execution_count": 3,
   "metadata": {},
   "outputs": [
    {
     "name": "stdout",
     "output_type": "stream",
     "text": [
      "Dataframe shape : (7352, 563)\n"
     ]
    }
   ],
   "source": [
    "print(f\"Dataframe shape : {df.shape}\")"
   ]
  },
  {
   "cell_type": "code",
   "execution_count": 4,
   "metadata": {},
   "outputs": [
    {
     "data": {
      "text/html": [
       "<div>\n",
       "<style scoped>\n",
       "    .dataframe tbody tr th:only-of-type {\n",
       "        vertical-align: middle;\n",
       "    }\n",
       "\n",
       "    .dataframe tbody tr th {\n",
       "        vertical-align: top;\n",
       "    }\n",
       "\n",
       "    .dataframe thead th {\n",
       "        text-align: right;\n",
       "    }\n",
       "</style>\n",
       "<table border=\"1\" class=\"dataframe\">\n",
       "  <thead>\n",
       "    <tr style=\"text-align: right;\">\n",
       "      <th></th>\n",
       "      <th>tBodyAcc-mean()-X</th>\n",
       "      <th>tBodyAcc-mean()-Y</th>\n",
       "      <th>tBodyAcc-mean()-Z</th>\n",
       "      <th>tBodyAcc-std()-X</th>\n",
       "      <th>tBodyAcc-std()-Y</th>\n",
       "      <th>tBodyAcc-std()-Z</th>\n",
       "      <th>tBodyAcc-mad()-X</th>\n",
       "      <th>tBodyAcc-mad()-Y</th>\n",
       "      <th>tBodyAcc-mad()-Z</th>\n",
       "      <th>tBodyAcc-max()-X</th>\n",
       "      <th>...</th>\n",
       "      <th>fBodyBodyGyroJerkMag-kurtosis()</th>\n",
       "      <th>angle(tBodyAccMean,gravity)</th>\n",
       "      <th>angle(tBodyAccJerkMean),gravityMean)</th>\n",
       "      <th>angle(tBodyGyroMean,gravityMean)</th>\n",
       "      <th>angle(tBodyGyroJerkMean,gravityMean)</th>\n",
       "      <th>angle(X,gravityMean)</th>\n",
       "      <th>angle(Y,gravityMean)</th>\n",
       "      <th>angle(Z,gravityMean)</th>\n",
       "      <th>subject</th>\n",
       "      <th>Activity</th>\n",
       "    </tr>\n",
       "  </thead>\n",
       "  <tbody>\n",
       "    <tr>\n",
       "      <th>0</th>\n",
       "      <td>0.288585</td>\n",
       "      <td>-0.020294</td>\n",
       "      <td>-0.132905</td>\n",
       "      <td>-0.995279</td>\n",
       "      <td>-0.983111</td>\n",
       "      <td>-0.913526</td>\n",
       "      <td>-0.995112</td>\n",
       "      <td>-0.983185</td>\n",
       "      <td>-0.923527</td>\n",
       "      <td>-0.934724</td>\n",
       "      <td>...</td>\n",
       "      <td>-0.710304</td>\n",
       "      <td>-0.112754</td>\n",
       "      <td>0.030400</td>\n",
       "      <td>-0.464761</td>\n",
       "      <td>-0.018446</td>\n",
       "      <td>-0.841247</td>\n",
       "      <td>0.179941</td>\n",
       "      <td>-0.058627</td>\n",
       "      <td>1</td>\n",
       "      <td>STANDING</td>\n",
       "    </tr>\n",
       "    <tr>\n",
       "      <th>1</th>\n",
       "      <td>0.278419</td>\n",
       "      <td>-0.016411</td>\n",
       "      <td>-0.123520</td>\n",
       "      <td>-0.998245</td>\n",
       "      <td>-0.975300</td>\n",
       "      <td>-0.960322</td>\n",
       "      <td>-0.998807</td>\n",
       "      <td>-0.974914</td>\n",
       "      <td>-0.957686</td>\n",
       "      <td>-0.943068</td>\n",
       "      <td>...</td>\n",
       "      <td>-0.861499</td>\n",
       "      <td>0.053477</td>\n",
       "      <td>-0.007435</td>\n",
       "      <td>-0.732626</td>\n",
       "      <td>0.703511</td>\n",
       "      <td>-0.844788</td>\n",
       "      <td>0.180289</td>\n",
       "      <td>-0.054317</td>\n",
       "      <td>1</td>\n",
       "      <td>STANDING</td>\n",
       "    </tr>\n",
       "    <tr>\n",
       "      <th>2</th>\n",
       "      <td>0.279653</td>\n",
       "      <td>-0.019467</td>\n",
       "      <td>-0.113462</td>\n",
       "      <td>-0.995380</td>\n",
       "      <td>-0.967187</td>\n",
       "      <td>-0.978944</td>\n",
       "      <td>-0.996520</td>\n",
       "      <td>-0.963668</td>\n",
       "      <td>-0.977469</td>\n",
       "      <td>-0.938692</td>\n",
       "      <td>...</td>\n",
       "      <td>-0.760104</td>\n",
       "      <td>-0.118559</td>\n",
       "      <td>0.177899</td>\n",
       "      <td>0.100699</td>\n",
       "      <td>0.808529</td>\n",
       "      <td>-0.848933</td>\n",
       "      <td>0.180637</td>\n",
       "      <td>-0.049118</td>\n",
       "      <td>1</td>\n",
       "      <td>STANDING</td>\n",
       "    </tr>\n",
       "    <tr>\n",
       "      <th>3</th>\n",
       "      <td>0.279174</td>\n",
       "      <td>-0.026201</td>\n",
       "      <td>-0.123283</td>\n",
       "      <td>-0.996091</td>\n",
       "      <td>-0.983403</td>\n",
       "      <td>-0.990675</td>\n",
       "      <td>-0.997099</td>\n",
       "      <td>-0.982750</td>\n",
       "      <td>-0.989302</td>\n",
       "      <td>-0.938692</td>\n",
       "      <td>...</td>\n",
       "      <td>-0.482845</td>\n",
       "      <td>-0.036788</td>\n",
       "      <td>-0.012892</td>\n",
       "      <td>0.640011</td>\n",
       "      <td>-0.485366</td>\n",
       "      <td>-0.848649</td>\n",
       "      <td>0.181935</td>\n",
       "      <td>-0.047663</td>\n",
       "      <td>1</td>\n",
       "      <td>STANDING</td>\n",
       "    </tr>\n",
       "    <tr>\n",
       "      <th>4</th>\n",
       "      <td>0.276629</td>\n",
       "      <td>-0.016570</td>\n",
       "      <td>-0.115362</td>\n",
       "      <td>-0.998139</td>\n",
       "      <td>-0.980817</td>\n",
       "      <td>-0.990482</td>\n",
       "      <td>-0.998321</td>\n",
       "      <td>-0.979672</td>\n",
       "      <td>-0.990441</td>\n",
       "      <td>-0.942469</td>\n",
       "      <td>...</td>\n",
       "      <td>-0.699205</td>\n",
       "      <td>0.123320</td>\n",
       "      <td>0.122542</td>\n",
       "      <td>0.693578</td>\n",
       "      <td>-0.615971</td>\n",
       "      <td>-0.847865</td>\n",
       "      <td>0.185151</td>\n",
       "      <td>-0.043892</td>\n",
       "      <td>1</td>\n",
       "      <td>STANDING</td>\n",
       "    </tr>\n",
       "    <tr>\n",
       "      <th>5</th>\n",
       "      <td>0.277199</td>\n",
       "      <td>-0.010098</td>\n",
       "      <td>-0.105137</td>\n",
       "      <td>-0.997335</td>\n",
       "      <td>-0.990487</td>\n",
       "      <td>-0.995420</td>\n",
       "      <td>-0.997627</td>\n",
       "      <td>-0.990218</td>\n",
       "      <td>-0.995549</td>\n",
       "      <td>-0.942469</td>\n",
       "      <td>...</td>\n",
       "      <td>-0.844619</td>\n",
       "      <td>0.082632</td>\n",
       "      <td>-0.143439</td>\n",
       "      <td>0.275041</td>\n",
       "      <td>-0.368224</td>\n",
       "      <td>-0.849632</td>\n",
       "      <td>0.184823</td>\n",
       "      <td>-0.042126</td>\n",
       "      <td>1</td>\n",
       "      <td>STANDING</td>\n",
       "    </tr>\n",
       "    <tr>\n",
       "      <th>6</th>\n",
       "      <td>0.279454</td>\n",
       "      <td>-0.019641</td>\n",
       "      <td>-0.110022</td>\n",
       "      <td>-0.996921</td>\n",
       "      <td>-0.967186</td>\n",
       "      <td>-0.983118</td>\n",
       "      <td>-0.997003</td>\n",
       "      <td>-0.966097</td>\n",
       "      <td>-0.983116</td>\n",
       "      <td>-0.940987</td>\n",
       "      <td>...</td>\n",
       "      <td>-0.564430</td>\n",
       "      <td>-0.212754</td>\n",
       "      <td>-0.230622</td>\n",
       "      <td>0.014637</td>\n",
       "      <td>-0.189512</td>\n",
       "      <td>-0.852150</td>\n",
       "      <td>0.182170</td>\n",
       "      <td>-0.043010</td>\n",
       "      <td>1</td>\n",
       "      <td>STANDING</td>\n",
       "    </tr>\n",
       "    <tr>\n",
       "      <th>7</th>\n",
       "      <td>0.277432</td>\n",
       "      <td>-0.030488</td>\n",
       "      <td>-0.125360</td>\n",
       "      <td>-0.996559</td>\n",
       "      <td>-0.966728</td>\n",
       "      <td>-0.981585</td>\n",
       "      <td>-0.996485</td>\n",
       "      <td>-0.966313</td>\n",
       "      <td>-0.982982</td>\n",
       "      <td>-0.940987</td>\n",
       "      <td>...</td>\n",
       "      <td>-0.421715</td>\n",
       "      <td>-0.020888</td>\n",
       "      <td>0.593996</td>\n",
       "      <td>-0.561871</td>\n",
       "      <td>0.467383</td>\n",
       "      <td>-0.851017</td>\n",
       "      <td>0.183779</td>\n",
       "      <td>-0.041976</td>\n",
       "      <td>1</td>\n",
       "      <td>STANDING</td>\n",
       "    </tr>\n",
       "    <tr>\n",
       "      <th>8</th>\n",
       "      <td>0.277293</td>\n",
       "      <td>-0.021751</td>\n",
       "      <td>-0.120751</td>\n",
       "      <td>-0.997328</td>\n",
       "      <td>-0.961245</td>\n",
       "      <td>-0.983672</td>\n",
       "      <td>-0.997596</td>\n",
       "      <td>-0.957236</td>\n",
       "      <td>-0.984379</td>\n",
       "      <td>-0.940598</td>\n",
       "      <td>...</td>\n",
       "      <td>-0.572995</td>\n",
       "      <td>0.012954</td>\n",
       "      <td>0.080936</td>\n",
       "      <td>-0.234313</td>\n",
       "      <td>0.117797</td>\n",
       "      <td>-0.847971</td>\n",
       "      <td>0.188982</td>\n",
       "      <td>-0.037364</td>\n",
       "      <td>1</td>\n",
       "      <td>STANDING</td>\n",
       "    </tr>\n",
       "    <tr>\n",
       "      <th>9</th>\n",
       "      <td>0.280586</td>\n",
       "      <td>-0.009960</td>\n",
       "      <td>-0.106065</td>\n",
       "      <td>-0.994803</td>\n",
       "      <td>-0.972758</td>\n",
       "      <td>-0.986244</td>\n",
       "      <td>-0.995405</td>\n",
       "      <td>-0.973663</td>\n",
       "      <td>-0.985642</td>\n",
       "      <td>-0.940028</td>\n",
       "      <td>...</td>\n",
       "      <td>0.140452</td>\n",
       "      <td>-0.020590</td>\n",
       "      <td>-0.127730</td>\n",
       "      <td>-0.482871</td>\n",
       "      <td>-0.070670</td>\n",
       "      <td>-0.848294</td>\n",
       "      <td>0.190310</td>\n",
       "      <td>-0.034417</td>\n",
       "      <td>1</td>\n",
       "      <td>STANDING</td>\n",
       "    </tr>\n",
       "  </tbody>\n",
       "</table>\n",
       "<p>10 rows × 563 columns</p>\n",
       "</div>"
      ],
      "text/plain": [
       "   tBodyAcc-mean()-X  tBodyAcc-mean()-Y  tBodyAcc-mean()-Z  tBodyAcc-std()-X  \\\n",
       "0           0.288585          -0.020294          -0.132905         -0.995279   \n",
       "1           0.278419          -0.016411          -0.123520         -0.998245   \n",
       "2           0.279653          -0.019467          -0.113462         -0.995380   \n",
       "3           0.279174          -0.026201          -0.123283         -0.996091   \n",
       "4           0.276629          -0.016570          -0.115362         -0.998139   \n",
       "5           0.277199          -0.010098          -0.105137         -0.997335   \n",
       "6           0.279454          -0.019641          -0.110022         -0.996921   \n",
       "7           0.277432          -0.030488          -0.125360         -0.996559   \n",
       "8           0.277293          -0.021751          -0.120751         -0.997328   \n",
       "9           0.280586          -0.009960          -0.106065         -0.994803   \n",
       "\n",
       "   tBodyAcc-std()-Y  tBodyAcc-std()-Z  tBodyAcc-mad()-X  tBodyAcc-mad()-Y  \\\n",
       "0         -0.983111         -0.913526         -0.995112         -0.983185   \n",
       "1         -0.975300         -0.960322         -0.998807         -0.974914   \n",
       "2         -0.967187         -0.978944         -0.996520         -0.963668   \n",
       "3         -0.983403         -0.990675         -0.997099         -0.982750   \n",
       "4         -0.980817         -0.990482         -0.998321         -0.979672   \n",
       "5         -0.990487         -0.995420         -0.997627         -0.990218   \n",
       "6         -0.967186         -0.983118         -0.997003         -0.966097   \n",
       "7         -0.966728         -0.981585         -0.996485         -0.966313   \n",
       "8         -0.961245         -0.983672         -0.997596         -0.957236   \n",
       "9         -0.972758         -0.986244         -0.995405         -0.973663   \n",
       "\n",
       "   tBodyAcc-mad()-Z  tBodyAcc-max()-X  ...  fBodyBodyGyroJerkMag-kurtosis()  \\\n",
       "0         -0.923527         -0.934724  ...                        -0.710304   \n",
       "1         -0.957686         -0.943068  ...                        -0.861499   \n",
       "2         -0.977469         -0.938692  ...                        -0.760104   \n",
       "3         -0.989302         -0.938692  ...                        -0.482845   \n",
       "4         -0.990441         -0.942469  ...                        -0.699205   \n",
       "5         -0.995549         -0.942469  ...                        -0.844619   \n",
       "6         -0.983116         -0.940987  ...                        -0.564430   \n",
       "7         -0.982982         -0.940987  ...                        -0.421715   \n",
       "8         -0.984379         -0.940598  ...                        -0.572995   \n",
       "9         -0.985642         -0.940028  ...                         0.140452   \n",
       "\n",
       "   angle(tBodyAccMean,gravity)  angle(tBodyAccJerkMean),gravityMean)  \\\n",
       "0                    -0.112754                              0.030400   \n",
       "1                     0.053477                             -0.007435   \n",
       "2                    -0.118559                              0.177899   \n",
       "3                    -0.036788                             -0.012892   \n",
       "4                     0.123320                              0.122542   \n",
       "5                     0.082632                             -0.143439   \n",
       "6                    -0.212754                             -0.230622   \n",
       "7                    -0.020888                              0.593996   \n",
       "8                     0.012954                              0.080936   \n",
       "9                    -0.020590                             -0.127730   \n",
       "\n",
       "   angle(tBodyGyroMean,gravityMean)  angle(tBodyGyroJerkMean,gravityMean)  \\\n",
       "0                         -0.464761                             -0.018446   \n",
       "1                         -0.732626                              0.703511   \n",
       "2                          0.100699                              0.808529   \n",
       "3                          0.640011                             -0.485366   \n",
       "4                          0.693578                             -0.615971   \n",
       "5                          0.275041                             -0.368224   \n",
       "6                          0.014637                             -0.189512   \n",
       "7                         -0.561871                              0.467383   \n",
       "8                         -0.234313                              0.117797   \n",
       "9                         -0.482871                             -0.070670   \n",
       "\n",
       "   angle(X,gravityMean)  angle(Y,gravityMean)  angle(Z,gravityMean)  subject  \\\n",
       "0             -0.841247              0.179941             -0.058627        1   \n",
       "1             -0.844788              0.180289             -0.054317        1   \n",
       "2             -0.848933              0.180637             -0.049118        1   \n",
       "3             -0.848649              0.181935             -0.047663        1   \n",
       "4             -0.847865              0.185151             -0.043892        1   \n",
       "5             -0.849632              0.184823             -0.042126        1   \n",
       "6             -0.852150              0.182170             -0.043010        1   \n",
       "7             -0.851017              0.183779             -0.041976        1   \n",
       "8             -0.847971              0.188982             -0.037364        1   \n",
       "9             -0.848294              0.190310             -0.034417        1   \n",
       "\n",
       "   Activity  \n",
       "0  STANDING  \n",
       "1  STANDING  \n",
       "2  STANDING  \n",
       "3  STANDING  \n",
       "4  STANDING  \n",
       "5  STANDING  \n",
       "6  STANDING  \n",
       "7  STANDING  \n",
       "8  STANDING  \n",
       "9  STANDING  \n",
       "\n",
       "[10 rows x 563 columns]"
      ]
     },
     "execution_count": 4,
     "metadata": {},
     "output_type": "execute_result"
    }
   ],
   "source": [
    "df.head(10)"
   ]
  },
  {
   "cell_type": "code",
   "execution_count": 5,
   "metadata": {},
   "outputs": [
    {
     "name": "stdout",
     "output_type": "stream",
     "text": [
      "['STANDING', 'SITTING', 'LAYING', 'WALKING', 'WALKING_DOWNSTAIRS', 'WALKING_UPSTAIRS']\n"
     ]
    }
   ],
   "source": [
    "list_of_activity = df[\"Activity\"].unique().tolist() \n",
    "print(list_of_activity)"
   ]
  },
  {
   "cell_type": "code",
   "execution_count": 6,
   "metadata": {},
   "outputs": [
    {
     "name": "stdout",
     "output_type": "stream",
     "text": [
      "(7352, 562)\n"
     ]
    }
   ],
   "source": [
    "X = df.drop(columns = \"Activity\")\n",
    "print(X.shape)"
   ]
  },
  {
   "cell_type": "code",
   "execution_count": 7,
   "metadata": {},
   "outputs": [
    {
     "name": "stdout",
     "output_type": "stream",
     "text": [
      "(7352,)\n"
     ]
    }
   ],
   "source": [
    "y = df[\"Activity\"]\n",
    "print(y.shape)"
   ]
  },
  {
   "cell_type": "code",
   "execution_count": 8,
   "metadata": {},
   "outputs": [],
   "source": [
    "X_train, X_test,y_train, y_test = train_test_split(X,y, test_size=0.2, shuffle=True)"
   ]
  },
  {
   "cell_type": "code",
   "execution_count": 9,
   "metadata": {},
   "outputs": [],
   "source": [
    "RF_classifer = RandomForestClassifier(max_depth=10, random_state=0)"
   ]
  },
  {
   "cell_type": "code",
   "execution_count": 10,
   "metadata": {},
   "outputs": [],
   "source": [
    "fitted_RF = RF_classifer.fit(X_train, y_train)"
   ]
  },
  {
   "cell_type": "code",
   "execution_count": 11,
   "metadata": {},
   "outputs": [],
   "source": [
    "y_predicted = fitted_RF.predict(X_test)"
   ]
  },
  {
   "cell_type": "code",
   "execution_count": 12,
   "metadata": {},
   "outputs": [
    {
     "name": "stdout",
     "output_type": "stream",
     "text": [
      "0.9755268524813052\n"
     ]
    }
   ],
   "source": [
    "first_prediction = accuracy_score(y_test, y_predicted)\n",
    "print(first_prediction)"
   ]
  },
  {
   "cell_type": "markdown",
   "metadata": {},
   "source": [
    "# Feature selection"
   ]
  },
  {
   "cell_type": "markdown",
   "metadata": {},
   "source": [
    "**Select K best**"
   ]
  },
  {
   "cell_type": "markdown",
   "metadata": {},
   "source": [
    "f_classif"
   ]
  },
  {
   "cell_type": "code",
   "execution_count": 13,
   "metadata": {},
   "outputs": [],
   "source": [
    "from sklearn.feature_selection import SelectKBest\n",
    "from sklearn.feature_selection import f_classif"
   ]
  },
  {
   "cell_type": "code",
   "execution_count": 14,
   "metadata": {},
   "outputs": [],
   "source": [
    "feature_selection_SelectKBest_100 = SelectKBest(f_classif, k=100)"
   ]
  },
  {
   "cell_type": "code",
   "execution_count": 15,
   "metadata": {},
   "outputs": [
    {
     "data": {
      "text/plain": [
       "(7352, 100)"
      ]
     },
     "execution_count": 15,
     "metadata": {},
     "output_type": "execute_result"
    }
   ],
   "source": [
    "X_feature_selection_f_classif_100 = feature_selection_SelectKBest_100.fit_transform(X, y)\n",
    "X_feature_selection_f_classif_100.shape"
   ]
  },
  {
   "cell_type": "code",
   "execution_count": 16,
   "metadata": {},
   "outputs": [],
   "source": [
    "X_train_f_classif_100, X_test_f_classif_100,y_train_f_classif_100, y_test_f_classif_100 = train_test_split(X_feature_selection_f_classif_100,y, test_size=0.2)"
   ]
  },
  {
   "cell_type": "code",
   "execution_count": 17,
   "metadata": {},
   "outputs": [
    {
     "name": "stdout",
     "output_type": "stream",
     "text": [
      "X_train_f_classif_100: (5881, 100)\n",
      "X_test_f_classif_100: (1471, 100)\n",
      "y_train_f_classif_100: (5881,)\n",
      "y_test_f_classif_100: (1471,)\n"
     ]
    }
   ],
   "source": [
    "print(f\"X_train_f_classif_100: {X_train_f_classif_100.shape}\")\n",
    "print(f\"X_test_f_classif_100: {X_test_f_classif_100.shape}\")\n",
    "print(f\"y_train_f_classif_100: {y_train_f_classif_100.shape}\")\n",
    "print(f\"y_test_f_classif_100: {y_test_f_classif_100.shape}\")"
   ]
  },
  {
   "cell_type": "code",
   "execution_count": 18,
   "metadata": {},
   "outputs": [],
   "source": [
    "fitted_RF_f_classif_100 = RF_classifer.fit(X_train_f_classif_100, y_train_f_classif_100)"
   ]
  },
  {
   "cell_type": "code",
   "execution_count": 19,
   "metadata": {},
   "outputs": [],
   "source": [
    "y_predicted_f_classif_100 = fitted_RF_f_classif_100.predict(X_test_f_classif_100)"
   ]
  },
  {
   "cell_type": "code",
   "execution_count": 20,
   "metadata": {},
   "outputs": [
    {
     "data": {
      "text/plain": [
       "array(['SITTING', 'WALKING_DOWNSTAIRS', 'WALKING', ..., 'WALKING',\n",
       "       'STANDING', 'STANDING'], dtype=object)"
      ]
     },
     "execution_count": 20,
     "metadata": {},
     "output_type": "execute_result"
    }
   ],
   "source": [
    "    y_predicted_f_classif_100"
   ]
  },
  {
   "cell_type": "code",
   "execution_count": 21,
   "metadata": {},
   "outputs": [
    {
     "name": "stdout",
     "output_type": "stream",
     "text": [
      "accuracy_f_classif_100: 0.9218218898708361\n"
     ]
    }
   ],
   "source": [
    "accuracy_prediction_f_classif_100 = accuracy_score(y_test_f_classif_100, y_predicted_f_classif_100)\n",
    "print(f\"accuracy_f_classif_100: {accuracy_prediction_f_classif_100}\")"
   ]
  },
  {
   "cell_type": "code",
   "execution_count": 22,
   "metadata": {},
   "outputs": [
    {
     "name": "stdout",
     "output_type": "stream",
     "text": [
      "X_train_f_classif_200: (5881, 200)\n",
      "X_test_f_classif_200: (1471, 200)\n",
      "y_train_f_classif_200: (5881,)\n",
      "y_test_f_classif_200: (1471,)\n",
      "accuracy_f_classif_200: 0.9789259007477906\n"
     ]
    }
   ],
   "source": [
    "    feature_selection_SelectKBest_200 = SelectKBest(f_classif, k=200)\n",
    "    X_feature_selection_f_classif_200 = feature_selection_SelectKBest_200.fit_transform(X, y)\n",
    "    X_feature_selection_f_classif_200.shape\n",
    "    X_train_f_classif_200, X_test_f_classif_200,y_train_f_classif_200, y_test_f_classif_200 = train_test_split(X_feature_selection_f_classif_200,y, test_size=0.2)\n",
    "    print(f\"X_train_f_classif_200: {X_train_f_classif_200.shape}\")\n",
    "    print(f\"X_test_f_classif_200: {X_test_f_classif_200.shape}\")\n",
    "    print(f\"y_train_f_classif_200: {y_train_f_classif_200.shape}\")\n",
    "    print(f\"y_test_f_classif_200: {y_test_f_classif_200.shape}\")\n",
    "    fitted_RF_f_classif_200 = RF_classifer.fit(X_train_f_classif_200, y_train_f_classif_200)\n",
    "    y_predicted_f_classif_200 = fitted_RF_f_classif_200.predict(X_test_f_classif_200)\n",
    "    accuracy_prediction_f_classif_200 = accuracy_score(y_test_f_classif_200, y_predicted_f_classif_200)\n",
    "    print(f\"accuracy_f_classif_200: {accuracy_prediction_f_classif_200}\")"
   ]
  },
  {
   "cell_type": "code",
   "execution_count": 23,
   "metadata": {},
   "outputs": [
    {
     "name": "stdout",
     "output_type": "stream",
     "text": [
      "X_train_f_classif_300: (5881, 300)\n",
      "X_test_f_classif_300: (1471, 300)\n",
      "y_train_f_classif_300: (5881,)\n",
      "y_test_f_classif_300: (1471,)\n",
      "accuracy_f_classif_300: 0.972807613868117\n"
     ]
    }
   ],
   "source": [
    "feature_selection_SelectKBest_300 = SelectKBest(f_classif, k=300)\n",
    "X_feature_selection_f_classif_300 = feature_selection_SelectKBest_300.fit_transform(X, y)\n",
    "X_feature_selection_f_classif_300.shape\n",
    "X_train_f_classif_300, X_test_f_classif_300,y_train_f_classif_300, y_test_f_classif_300 = train_test_split(X_feature_selection_f_classif_300,y, test_size=0.2)\n",
    "print(f\"X_train_f_classif_300: {X_train_f_classif_300.shape}\")\n",
    "print(f\"X_test_f_classif_300: {X_test_f_classif_300.shape}\")\n",
    "print(f\"y_train_f_classif_300: {y_train_f_classif_300.shape}\")\n",
    "print(f\"y_test_f_classif_300: {y_test_f_classif_300.shape}\")\n",
    "fitted_RF_f_classif_300 = RF_classifer.fit(X_train_f_classif_300, y_train_f_classif_300)\n",
    "y_predicted_f_classif_300 = fitted_RF_f_classif_300.predict(X_test_f_classif_300)\n",
    "accuracy_prediction_f_classif_300 = accuracy_score(y_test_f_classif_300, y_predicted_f_classif_300)\n",
    "print(f\"accuracy_f_classif_300: {accuracy_prediction_f_classif_300}\")"
   ]
  },
  {
   "cell_type": "code",
   "execution_count": null,
   "metadata": {},
   "outputs": [
    {
     "name": "stdout",
     "output_type": "stream",
     "text": [
      "X_train_f_classif_400: (5881, 400)\n",
      "X_test_f_classif_400: (1471, 400)\n",
      "y_train_f_classif_400: (5881,)\n",
      "y_test_f_classif_400: (1471,)\n"
     ]
    }
   ],
   "source": [
    "feature_selection_SelectKBest_400 = SelectKBest(f_classif, k=400)\n",
    "X_feature_selection_f_classif_400 = feature_selection_SelectKBest_400.fit_transform(X, y)\n",
    "X_feature_selection_f_classif_400.shape\n",
    "X_train_f_classif_400, X_test_f_classif_400,y_train_f_classif_400, y_test_f_classif_400 = train_test_split(X_feature_selection_f_classif_400,y, test_size=0.2)\n",
    "print(f\"X_train_f_classif_400: {X_train_f_classif_400.shape}\")\n",
    "print(f\"X_test_f_classif_400: {X_test_f_classif_400.shape}\")\n",
    "print(f\"y_train_f_classif_400: {y_train_f_classif_400.shape}\")\n",
    "print(f\"y_test_f_classif_400: {y_test_f_classif_400.shape}\")\n",
    "fitted_RF_f_classif_400 = RF_classifer.fit(X_train_f_classif_400, y_train_f_classif_400)\n",
    "y_predicted_f_classif_400 = fitted_RF_f_classif_400.predict(X_test_f_classif_400)\n",
    "accuracy_prediction_f_classif_400 = accuracy_score(y_test_f_classif_400, y_predicted_f_classif_400)\n",
    "print(f\"accuracy_f_classif_400: {accuracy_prediction_f_classif_400}\")"
   ]
  },
  {
   "cell_type": "code",
   "execution_count": null,
   "metadata": {},
   "outputs": [],
   "source": [
    "import matplotlib.pyplot as plt\n",
    "\n",
    "execution = (\"original data\", 'accuracy_100','accuracy_200',\n",
    "             'accuracy_300','accuracy_400')\n",
    "accuracy = [float(round(first_prediction*100,2)), float(round(accuracy_prediction_f_classif_100*100,2)), float(round(accuracy_prediction_f_classif_200*100,2)), \n",
    "            float(round(accuracy_prediction_f_classif_300*100,2)), float(round(accuracy_prediction_f_classif_400*100,2))]\n",
    "fig = plt.figure(figsize = (10, 5))\n",
    "plt.bar(execution,accuracy)\n",
    "\n",
    "for index, value in enumerate(accuracy):\n",
    "    plt.text(index, value,str(value))\n",
    "    \n",
    "plt.show()"
   ]
  },
  {
   "cell_type": "markdown",
   "metadata": {},
   "source": [
    "chi2"
   ]
  },
  {
   "cell_type": "code",
   "execution_count": null,
   "metadata": {},
   "outputs": [],
   "source": [
    "from sklearn.feature_selection import chi2"
   ]
  },
  {
   "cell_type": "code",
   "execution_count": null,
   "metadata": {},
   "outputs": [],
   "source": [
    "feature_selection_chi2_100 = SelectKBest(chi2, k=100)"
   ]
  },
  {
   "cell_type": "markdown",
   "metadata": {},
   "source": [
    "> solution: MinMaxScaler"
   ]
  },
  {
   "cell_type": "code",
   "execution_count": null,
   "metadata": {},
   "outputs": [],
   "source": [
    "from sklearn.preprocessing import MinMaxScaler\n",
    "\n",
    "\n",
    "scaler = MinMaxScaler()\n",
    "scaler.fit(X)\n",
    "scaled = scaler.fit_transform(X)\n",
    "X_max_min = pd.DataFrame(scaled, columns=X.columns)\n",
    "X_max_min"
   ]
  },
  {
   "cell_type": "code",
   "execution_count": null,
   "metadata": {},
   "outputs": [],
   "source": [
    "feature_selection_SelectKBest_100 = SelectKBest(chi2, k=100)\n",
    "X_feature_selection_chi2_100 = feature_selection_SelectKBest_100.fit_transform(X_max_min, y)\n",
    "X_feature_selection_chi2_100.shape\n",
    "X_train_chi2_100, X_test_chi2_100,y_train_chi2_100, y_test_chi2_100 = train_test_split(X_feature_selection_chi2_100,y, test_size=0.2)\n",
    "print(f\"X_train_chi2_100: {X_train_chi2_100.shape}\")\n",
    "print(f\"X_test_chi2_100: {X_test_chi2_100.shape}\")\n",
    "print(f\"y_train_chi2_100: {y_train_chi2_100.shape}\")\n",
    "print(f\"y_test_chi2_100: {y_test_chi2_100.shape}\")\n",
    "fitted_RF_chi2_100 = RF_classifer.fit(X_train_chi2_100, y_train_chi2_100)\n",
    "y_predicted_chi2_100 = fitted_RF_chi2_100.predict(X_test_chi2_100)\n",
    "accuracy_prediction_chi2_100 = accuracy_score(y_test_chi2_100, y_predicted_chi2_100)\n",
    "print(f\"accuracy_chi2_100: {accuracy_prediction_chi2_100}\")"
   ]
  },
  {
   "cell_type": "code",
   "execution_count": null,
   "metadata": {},
   "outputs": [],
   "source": [
    "feature_selection_SelectKBest_200 = SelectKBest(chi2, k=200)\n",
    "X_feature_selection_chi2_200 = feature_selection_SelectKBest_200.fit_transform(X_max_min, y)\n",
    "X_feature_selection_chi2_200.shape\n",
    "X_train_chi2_200, X_test_chi2_200,y_train_chi2_200, y_test_chi2_200 = train_test_split(X_feature_selection_chi2_200,y, test_size=0.2)\n",
    "print(f\"X_train_chi2_200: {X_train_chi2_200.shape}\")\n",
    "print(f\"X_test_chi2_200: {X_test_chi2_200.shape}\")\n",
    "print(f\"y_train_chi2_200: {y_train_chi2_200.shape}\")\n",
    "print(f\"y_test_chi2_200: {y_test_chi2_200.shape}\")\n",
    "fitted_RF_chi2_200 = RF_classifer.fit(X_train_chi2_200, y_train_chi2_200)\n",
    "y_predicted_chi2_200 = fitted_RF_chi2_200.predict(X_test_chi2_200)\n",
    "accuracy_prediction_chi2_200 = accuracy_score(y_test_chi2_200, y_predicted_chi2_200)\n",
    "print(f\"accuracy_chi2_200: {accuracy_prediction_chi2_200}\")"
   ]
  },
  {
   "cell_type": "code",
   "execution_count": null,
   "metadata": {},
   "outputs": [],
   "source": [
    "feature_selection_SelectKBest_300 = SelectKBest(chi2, k=300)\n",
    "X_feature_selection_chi2_300 = feature_selection_SelectKBest_300.fit_transform(X_max_min, y)\n",
    "X_feature_selection_chi2_300.shape\n",
    "X_train_chi2_300, X_test_chi2_300,y_train_chi2_300, y_test_chi2_300 = train_test_split(X_feature_selection_chi2_300,y, test_size=0.2)\n",
    "print(f\"X_train_chi2_300: {X_train_chi2_300.shape}\")\n",
    "print(f\"X_test_chi2_300: {X_test_chi2_300.shape}\")\n",
    "print(f\"y_train_chi2_300: {y_train_chi2_300.shape}\")\n",
    "print(f\"y_test_chi2_300: {y_test_chi2_300.shape}\")\n",
    "fitted_RF_chi2_300 = RF_classifer.fit(X_train_chi2_300, y_train_chi2_300)\n",
    "y_predicted_chi2_300 = fitted_RF_chi2_300.predict(X_test_chi2_300)\n",
    "accuracy_prediction_chi2_300 = accuracy_score(y_test_chi2_300, y_predicted_chi2_300)\n",
    "print(f\"accuracy_chi2_300: {accuracy_prediction_chi2_300}\")"
   ]
  },
  {
   "cell_type": "code",
   "execution_count": null,
   "metadata": {},
   "outputs": [],
   "source": [
    "feature_selection_SelectKBest_400 = SelectKBest(chi2, k=400)\n",
    "X_feature_selection_chi2_400 = feature_selection_SelectKBest_400.fit_transform(X_max_min, y)\n",
    "X_feature_selection_chi2_400.shape\n",
    "X_train_chi2_400, X_test_chi2_400,y_train_chi2_400, y_test_chi2_400 = train_test_split(X_feature_selection_chi2_400,y, test_size=0.2)\n",
    "print(f\"X_train_chi2_400: {X_train_chi2_400.shape}\")\n",
    "print(f\"X_test_chi2_400: {X_test_chi2_400.shape}\")\n",
    "print(f\"y_train_chi2_400: {y_train_chi2_400.shape}\")\n",
    "print(f\"y_test_chi2_400: {y_test_chi2_400.shape}\")\n",
    "fitted_RF_chi2_400 = RF_classifer.fit(X_train_chi2_400, y_train_chi2_400)\n",
    "y_predicted_chi2_400 = fitted_RF_chi2_400.predict(X_test_chi2_400)\n",
    "accuracy_prediction_chi2_400 = accuracy_score(y_test_chi2_400, y_predicted_chi2_400)\n",
    "print(f\"accuracy_chi2_400: {accuracy_prediction_chi2_400}\")"
   ]
  },
  {
   "cell_type": "code",
   "execution_count": null,
   "metadata": {},
   "outputs": [],
   "source": [
    "import matplotlib.pyplot as plt\n",
    "\n",
    "execution = (\"original data\", 'accuracy_100','accuracy_200',\n",
    "             'accuracy_300','accuracy_400')\n",
    "accuracy = [float(round(first_prediction*100,2)), float(round(accuracy_prediction_chi2_100*100,2)), float(round(accuracy_prediction_chi2_200*100,2)), \n",
    "            float(round(accuracy_prediction_chi2_300*100,2)), float(round(accuracy_prediction_chi2_400*100,2))]\n",
    "fig = plt.figure(figsize = (10, 5))\n",
    "plt.bar(execution,accuracy)\n",
    "\n",
    "for index, value in enumerate(accuracy):\n",
    "    plt.text(index, value,str(value))\n",
    "    \n",
    "plt.show()"
   ]
  },
  {
   "cell_type": "markdown",
   "metadata": {},
   "source": [
    "mutual_info_classif"
   ]
  },
  {
   "cell_type": "markdown",
   "metadata": {
    "execution": {
     "iopub.execute_input": "2023-04-16T20:28:46.040269Z",
     "iopub.status.busy": "2023-04-16T20:28:46.039036Z",
     "iopub.status.idle": "2023-04-16T20:28:46.046767Z",
     "shell.execute_reply": "2023-04-16T20:28:46.045246Z",
     "shell.execute_reply.started": "2023-04-16T20:28:46.040219Z"
    }
   },
   "source": [
    "Summary of Kbest"
   ]
  },
  {
   "cell_type": "code",
   "execution_count": null,
   "metadata": {},
   "outputs": [],
   "source": [
    "execution = (\"original data\", 'f_classif_100','f_classif_200',\n",
    "             'f_classif_300','f_classif_400','chi2_100','chi2_200',\n",
    "             'chi2_300','chi2_400')\n",
    "accuracy = [float(round(first_prediction*100,2)), float(round(accuracy_prediction_f_classif_100*100,2)), float(round(accuracy_prediction_f_classif_200*100,2)), \n",
    "            float(round(accuracy_prediction_f_classif_300*100,2)), float(round(accuracy_prediction_f_classif_400*100,2)), float(round(accuracy_prediction_chi2_100*100,2)), float(round(accuracy_prediction_chi2_200*100,2)), \n",
    "            float(round(accuracy_prediction_chi2_300*100,2)), float(round(accuracy_prediction_chi2_400*100,2))]\n",
    "fig = plt.figure(figsize = (20, 5))\n",
    "plt.bar(execution,accuracy)\n",
    "\n",
    "for index, value in enumerate(accuracy):\n",
    "    plt.text(index, value,str(value))\n",
    "    \n",
    "plt.show()"
   ]
  },
  {
   "cell_type": "code",
   "execution_count": null,
   "metadata": {},
   "outputs": [],
   "source": [
    "from sklearn.feature_selection import SelectPercentile"
   ]
  },
  {
   "cell_type": "code",
   "execution_count": null,
   "metadata": {},
   "outputs": [],
   "source": [
    "feature_selection_SelectPercentile_25 = SelectPercentile(f_classif, percentile=25)\n",
    "X_feature_selection_f_classif_25 = feature_selection_SelectPercentile_25.fit_transform(X, y)\n",
    "X_feature_selection_f_classif_25.shape\n",
    "X_train_f_classif_25, X_test_f_classif_25,y_train_f_classif_25, y_test_f_classif_25 = train_test_split(X_feature_selection_f_classif_25,y, test_size=0.2)\n",
    "print(f\"X_train_f_classif_25: {X_train_f_classif_25.shape}\")\n",
    "print(f\"X_test_f_classif_25: {X_test_f_classif_25.shape}\")\n",
    "print(f\"y_train_f_classif_25: {y_train_f_classif_25.shape}\")\n",
    "print(f\"y_test_f_classif_25: {y_test_f_classif_25.shape}\")\n",
    "fitted_RF_f_classif_25 = RF_classifer.fit(X_train_f_classif_25, y_train_f_classif_25)\n",
    "y_predicted_f_classif_25 = fitted_RF_f_classif_25.predict(X_test_f_classif_25)\n",
    "accuracy_prediction_f_classif_25 = accuracy_score(y_test_f_classif_25, y_predicted_f_classif_25)\n",
    "print(f\"accuracy_f_classif_25: {accuracy_prediction_f_classif_25}\")"
   ]
  },
  {
   "cell_type": "code",
   "execution_count": null,
   "metadata": {},
   "outputs": [],
   "source": [
    "feature_selection_SelectPercentile_50 = SelectPercentile(f_classif, percentile=50)\n",
    "X_feature_selection_f_classif_50 = feature_selection_SelectPercentile_50.fit_transform(X, y)\n",
    "X_feature_selection_f_classif_50.shape\n",
    "X_train_f_classif_50, X_test_f_classif_50,y_train_f_classif_50, y_test_f_classif_50 = train_test_split(X_feature_selection_f_classif_50,y, test_size=0.2)\n",
    "print(f\"X_train_f_classif_50: {X_train_f_classif_50.shape}\")\n",
    "print(f\"X_test_f_classif_50: {X_test_f_classif_50.shape}\")\n",
    "print(f\"y_train_f_classif_50: {y_train_f_classif_50.shape}\")\n",
    "print(f\"y_test_f_classif_50: {y_test_f_classif_50.shape}\")\n",
    "fitted_RF_f_classif_50 = RF_classifer.fit(X_train_f_classif_50, y_train_f_classif_50)\n",
    "y_predicted_f_classif_50 = fitted_RF_f_classif_50.predict(X_test_f_classif_50)\n",
    "accuracy_prediction_f_classif_50 = accuracy_score(y_test_f_classif_50, y_predicted_f_classif_50)\n",
    "print(f\"accuracy_f_classif_50: {accuracy_prediction_f_classif_50}\")"
   ]
  },
  {
   "cell_type": "code",
   "execution_count": null,
   "metadata": {},
   "outputs": [],
   "source": [
    "feature_selection_SelectPercentile_75 = SelectPercentile(f_classif, percentile=75)\n",
    "X_feature_selection_f_classif_75 = feature_selection_SelectPercentile_75.fit_transform(X, y)\n",
    "X_feature_selection_f_classif_75.shape\n",
    "X_train_f_classif_75, X_test_f_classif_75,y_train_f_classif_75, y_test_f_classif_75 = train_test_split(X_feature_selection_f_classif_75,y, test_size=0.2)\n",
    "print(f\"X_train_f_classif_75: {X_train_f_classif_75.shape}\")\n",
    "print(f\"X_test_f_classif_75: {X_test_f_classif_75.shape}\")\n",
    "print(f\"y_train_f_classif_75: {y_train_f_classif_75.shape}\")\n",
    "print(f\"y_test_f_classif_75: {y_test_f_classif_75.shape}\")\n",
    "fitted_RF_f_classif_75 = RF_classifer.fit(X_train_f_classif_75, y_train_f_classif_75)\n",
    "y_predicted_f_classif_75 = fitted_RF_f_classif_75.predict(X_test_f_classif_75)\n",
    "accuracy_prediction_f_classif_75 = accuracy_score(y_test_f_classif_75, y_predicted_f_classif_75)\n",
    "print(f\"accuracy_f_classif_75: {accuracy_prediction_f_classif_75}\")"
   ]
  },
  {
   "cell_type": "code",
   "execution_count": null,
   "metadata": {},
   "outputs": [],
   "source": [
    "execution = (\"original data\", 'accuracy_25P','accuracy_50P',\n",
    "             'accuracy_75P')\n",
    "accuracy = [float(round(first_prediction*100,2)), float(round(accuracy_prediction_f_classif_25*100,2)), float(round(accuracy_prediction_f_classif_50*100,2)), \n",
    "            float(round(accuracy_prediction_f_classif_75*100,2))]\n",
    "fig = plt.figure(figsize = (10, 5))\n",
    "plt.bar(execution,accuracy)\n",
    "\n",
    "for index, value in enumerate(accuracy):\n",
    "    plt.text(index, value,str(value))\n",
    "    \n",
    "plt.show()"
   ]
  },
  {
   "cell_type": "markdown",
   "metadata": {},
   "source": [
    "# PCA"
   ]
  },
  {
   "cell_type": "code",
   "execution_count": null,
   "metadata": {},
   "outputs": [],
   "source": [
    "from sklearn import decomposition"
   ]
  },
  {
   "cell_type": "code",
   "execution_count": null,
   "metadata": {},
   "outputs": [],
   "source": [
    "pca_100 = decomposition.PCA(n_components=100)\n",
    "pca_100.fit(X)\n",
    "X_pca_100 = pca_100.transform(X)"
   ]
  },
  {
   "cell_type": "code",
   "execution_count": null,
   "metadata": {},
   "outputs": [],
   "source": [
    "X_pca_100.shape"
   ]
  },
  {
   "cell_type": "code",
   "execution_count": null,
   "metadata": {},
   "outputs": [],
   "source": [
    "X_train_pca_100, X_test_pca_100,y_train_pca_100, y_test_pca_100 = train_test_split(X_pca_100,y, test_size=0.2)"
   ]
  },
  {
   "cell_type": "code",
   "execution_count": null,
   "metadata": {},
   "outputs": [],
   "source": [
    "print(f\"X_train_pca_100: {X_train_pca_100.shape}\")\n",
    "print(f\"X_test_pca_100: {X_test_pca_100.shape}\")\n",
    "print(f\"y_train_pca_100: {y_train_pca_100.shape}\")\n",
    "print(f\"y_test_pca_100: {y_test_pca_100.shape}\")"
   ]
  },
  {
   "cell_type": "code",
   "execution_count": null,
   "metadata": {},
   "outputs": [],
   "source": [
    "fitted_RF_pca_100 = RF_classifer.fit(X_train_pca_100, y_train_pca_100)"
   ]
  },
  {
   "cell_type": "code",
   "execution_count": null,
   "metadata": {},
   "outputs": [],
   "source": [
    "y_predicted_pca_100 = fitted_RF_pca_100.predict(X_test_pca_100)"
   ]
  },
  {
   "cell_type": "code",
   "execution_count": null,
   "metadata": {},
   "outputs": [],
   "source": [
    "accuracy_prediction_pca_100 = accuracy_score(y_test_pca_100, y_predicted_pca_100)\n",
    "print(f\"accuracy_pca_100: {accuracy_prediction_pca_100}\")"
   ]
  },
  {
   "cell_type": "code",
   "execution_count": null,
   "metadata": {},
   "outputs": [],
   "source": [
    "pca_200 = decomposition.PCA(n_components=200)\n",
    "pca_200.fit(X)\n",
    "X_pca_200 = pca_200.transform(X)\n",
    "X_train_pca_200, X_test_pca_200,y_train_pca_200, y_test_pca_200 = train_test_split(X_pca_200,y, test_size=0.2)\n",
    "print(f\"X_train_pca_200: {X_train_pca_200.shape}\")\n",
    "print(f\"X_test_pca_200: {X_test_pca_200.shape}\")\n",
    "print(f\"y_train_pca_200: {y_train_pca_200.shape}\")\n",
    "print(f\"y_test_pca_200: {y_test_pca_200.shape}\")\n",
    "fitted_RF_pca_200 = RF_classifer.fit(X_train_pca_200, y_train_pca_200)\n",
    "y_predicted_pca_200 = fitted_RF_pca_200.predict(X_test_pca_200)\t\n",
    "accuracy_prediction_pca_200 = accuracy_score(y_test_pca_200, y_predicted_pca_200)\n",
    "print(f\"accuracy_pca_200: {accuracy_prediction_pca_200}\")"
   ]
  },
  {
   "cell_type": "code",
   "execution_count": null,
   "metadata": {},
   "outputs": [],
   "source": [
    "pca_300 = decomposition.PCA(n_components=300)\n",
    "pca_300.fit(X)\n",
    "X_pca_300 = pca_300.transform(X)\n",
    "X_train_pca_300, X_test_pca_300,y_train_pca_300, y_test_pca_300 = train_test_split(X_pca_300,y, test_size=0.2)\n",
    "print(f\"X_train_pca_300: {X_train_pca_300.shape}\")\n",
    "print(f\"X_test_pca_300: {X_test_pca_300.shape}\")\n",
    "print(f\"y_train_pca_300: {y_train_pca_300.shape}\")\n",
    "print(f\"y_test_pca_300: {y_test_pca_300.shape}\")\n",
    "fitted_RF_pca_300 = RF_classifer.fit(X_train_pca_300, y_train_pca_300)\n",
    "y_predicted_pca_300 = fitted_RF_pca_300.predict(X_test_pca_300)\t\n",
    "accuracy_prediction_pca_300 = accuracy_score(y_test_pca_300, y_predicted_pca_300)\n",
    "print(f\"accuracy_pca_300: {accuracy_prediction_pca_300}\")"
   ]
  },
  {
   "cell_type": "code",
   "execution_count": null,
   "metadata": {},
   "outputs": [],
   "source": [
    "pca_400 = decomposition.PCA(n_components=400)\n",
    "pca_400.fit(X)\n",
    "X_pca_400 = pca_400.transform(X)\n",
    "X_train_pca_400, X_test_pca_400,y_train_pca_400, y_test_pca_400 = train_test_split(X_pca_400,y, test_size=0.2)\n",
    "print(f\"X_train_pca_400: {X_train_pca_400.shape}\")\n",
    "print(f\"X_test_pca_400: {X_test_pca_400.shape}\")\n",
    "print(f\"y_train_pca_400: {y_train_pca_400.shape}\")\n",
    "print(f\"y_test_pca_400: {y_test_pca_400.shape}\")\n",
    "fitted_RF_pca_400 = RF_classifer.fit(X_train_pca_400, y_train_pca_400)\n",
    "y_predicted_pca_400 = fitted_RF_pca_400.predict(X_test_pca_400)\t\n",
    "accuracy_prediction_pca_400 = accuracy_score(y_test_pca_400, y_predicted_pca_400)\n",
    "print(f\"accuracy_pca_400: {accuracy_prediction_pca_400}\")"
   ]
  },
  {
   "cell_type": "code",
   "execution_count": null,
   "metadata": {},
   "outputs": [],
   "source": [
    "execution = (\"original data\", 'accuracy_100','accuracy_200',\n",
    "             'accuracy_300','accuracy_400')\n",
    "accuracy = [float(round(first_prediction*100,2)), float(round(accuracy_prediction_pca_100*100,2)), float(round(accuracy_prediction_pca_200*100,2)), \n",
    "            float(round(accuracy_prediction_pca_300*100,2)), float(round(accuracy_prediction_pca_400*100,2))]\n",
    "fig = plt.figure(figsize = (10, 5))\n",
    "plt.bar(execution,accuracy)\n",
    "\n",
    "for index, value in enumerate(accuracy):\n",
    "    plt.text(index, value,str(value))\n",
    "    \n",
    "plt.show()"
   ]
  }
 ],
 "metadata": {
  "kernelspec": {
   "display_name": "Python 3 (ipykernel)",
   "language": "python",
   "name": "python3"
  },
  "language_info": {
   "codemirror_mode": {
    "name": "ipython",
    "version": 3
   },
   "file_extension": ".py",
   "mimetype": "text/x-python",
   "name": "python",
   "nbconvert_exporter": "python",
   "pygments_lexer": "ipython3",
   "version": "3.9.15"
  }
 },
 "nbformat": 4,
 "nbformat_minor": 4
}
